{
  "cells": [
    {
      "cell_type": "markdown",
      "metadata": {
        "id": "TbzRl6aq-f8w"
      },
      "source": [
        "# Character-Level LSTM in PyTorch\n",
        "\n",
        "The network will train character by character on some text, then generate new text character by character. As an example, it'll use the text of \"Alice in Wonderland\". **This model will be able to generate new text based on the text from the book!**\n",
        "\n",
        "This network is based off of Andrej Karpathy's [post on RNNs](http://karpathy.github.io/2015/05/21/rnn-effectiveness/) and [implementation in Torch](https://github.com/karpathy/char-rnn). Below is the general architecture of the character-wise RNN.\n",
        "\n",
        "<img src=\"assets/charseq.jpeg\" width=\"500\">"
      ]
    },
    {
      "cell_type": "markdown",
      "metadata": {
        "id": "cYaM1Tb8-f8z"
      },
      "source": [
        "First let's load in our required resources for data loading and model creation."
      ]
    },
    {
      "cell_type": "code",
      "execution_count": 1,
      "metadata": {
        "id": "USy_TEwJ-f80"
      },
      "outputs": [],
      "source": [
        "import numpy as np\n",
        "import torch\n",
        "from torch import nn\n",
        "import torch.nn.functional as F"
      ]
    },
    {
      "cell_type": "markdown",
      "metadata": {
        "id": "PbLBtvkB-f81"
      },
      "source": [
        "## Load in Data\n",
        "\n",
        "Then, we'll load the \"Alice in Wonderland\" text file and convert it into integers for our network to use."
      ]
    },
    {
      "cell_type": "code",
      "execution_count": 3,
      "metadata": {
        "id": "JVNtzmNT-f82"
      },
      "outputs": [],
      "source": [
        "# open text file and read in data as `text`\n",
        "with open('alice.txt', 'r') as f:\n",
        "    text = f.read()"
      ]
    },
    {
      "cell_type": "markdown",
      "metadata": {
        "id": "NaNSihnc-f83"
      },
      "source": [
        "Let's check out the first 100 characters, make sure everything is peachy."
      ]
    },
    {
      "cell_type": "code",
      "execution_count": 4,
      "metadata": {
        "colab": {
          "base_uri": "https://localhost:8080/",
          "height": 36
        },
        "id": "PVZN5vnh-f83",
        "outputId": "3cf5d1e7-6fd2-4488-af14-515c59d5a673"
      },
      "outputs": [
        {
          "output_type": "execute_result",
          "data": {
            "text/plain": [
              "\"Alice's Adventures in Wonderland\\n\\n                ALICE'S ADVENTURES IN WONDERLAND\\n\\n                \""
            ],
            "application/vnd.google.colaboratory.intrinsic+json": {
              "type": "string"
            }
          },
          "metadata": {},
          "execution_count": 4
        }
      ],
      "source": [
        "text[:100]"
      ]
    },
    {
      "cell_type": "markdown",
      "metadata": {
        "id": "EbE-RBsQ-f84"
      },
      "source": [
        "### Tokenization\n",
        "\n",
        "In the cells, below, I'm creating a couple **dictionaries** to convert the characters to and from integers. Encoding the characters as integers makes it easier to use as input in the network."
      ]
    },
    {
      "cell_type": "code",
      "execution_count": 5,
      "metadata": {
        "id": "6jPtsszJ-f85"
      },
      "outputs": [],
      "source": [
        "# encode the text and map each character to an integer and vice versa\n",
        "\n",
        "# we create two dictionaries:\n",
        "# 1. int2char, which maps integers to characters\n",
        "# 2. char2int, which maps characters to unique integers\n",
        "chars = tuple(set(text))\n",
        "int2char = dict(enumerate(chars))\n",
        "char2int = {ch: ii for ii, ch in int2char.items()}\n",
        "\n",
        "# encode the text\n",
        "encoded = np.array([char2int[ch] for ch in text])"
      ]
    },
    {
      "cell_type": "markdown",
      "metadata": {
        "id": "M82YnPqa-f86"
      },
      "source": [
        "And we can see those same characters from above, encoded as integers."
      ]
    },
    {
      "cell_type": "code",
      "execution_count": 6,
      "metadata": {
        "colab": {
          "base_uri": "https://localhost:8080/"
        },
        "id": "fSYgSYRx-f86",
        "outputId": "b25f9504-e621-4d12-a688-f5dabe2c5471"
      },
      "outputs": [
        {
          "output_type": "execute_result",
          "data": {
            "text/plain": [
              "array([34, 35, 13, 23,  6, 40, 59, 11, 34, 66,  2,  6, 21, 29,  7, 44,  6,\n",
              "       59, 11, 13, 21, 11, 19, 26, 21, 66,  6, 44, 35, 70, 21, 66,  0,  0,\n",
              "       11, 11, 11, 11, 11, 11, 11, 11, 11, 11, 11, 11, 11, 11, 11, 11, 34,\n",
              "        8, 12, 37, 56, 40, 62, 11, 34, 51, 25, 56, 43,  9, 42, 45, 56, 62,\n",
              "       11, 12, 43, 11, 19, 65, 43, 51, 56, 45,  8, 34, 43, 51,  0,  0, 11,\n",
              "       11, 11, 11, 11, 11, 11, 11, 11, 11, 11, 11, 11, 11, 11, 11])"
            ]
          },
          "metadata": {},
          "execution_count": 6
        }
      ],
      "source": [
        "encoded[:100]"
      ]
    },
    {
      "cell_type": "markdown",
      "metadata": {
        "id": "xiCHh970-f87"
      },
      "source": [
        "## Pre-processing the data\n",
        "\n",
        "As you can see in our char-RNN image above, our LSTM expects an input that is **one-hot encoded** meaning that each character is converted into an integer (via our created dictionary) and *then* converted into a column vector where only it's corresponding integer index will have the value of 1 and the rest of the vector will be filled with 0's. Since we're one-hot encoding the data, let's make a function to do that!\n"
      ]
    },
    {
      "cell_type": "code",
      "execution_count": 7,
      "metadata": {
        "id": "0giUjK90-f87"
      },
      "outputs": [],
      "source": [
        "def one_hot_encode(arr, n_labels):\n",
        "\n",
        "    # Initialize the the encoded array\n",
        "    one_hot = np.zeros((np.multiply(*arr.shape), n_labels), dtype=np.float32)\n",
        "\n",
        "    # Fill the appropriate elements with ones\n",
        "    one_hot[np.arange(one_hot.shape[0]), arr.flatten()] = 1.\n",
        "\n",
        "    # Finally reshape it to get back to the original array\n",
        "    one_hot = one_hot.reshape((*arr.shape, n_labels))\n",
        "\n",
        "    return one_hot"
      ]
    },
    {
      "cell_type": "code",
      "execution_count": 8,
      "metadata": {
        "colab": {
          "base_uri": "https://localhost:8080/"
        },
        "id": "OhQ8CwoS-f88",
        "outputId": "cc2cfc3c-b922-4dad-a4c7-f56cfd0a21c0"
      },
      "outputs": [
        {
          "output_type": "stream",
          "name": "stdout",
          "text": [
            "[[[0. 0. 0. 1. 0. 0. 0. 0.]\n",
            "  [0. 0. 0. 0. 0. 1. 0. 0.]\n",
            "  [0. 1. 0. 0. 0. 0. 0. 0.]]]\n"
          ]
        }
      ],
      "source": [
        "# check that the function works as expected\n",
        "test_seq = np.array([[3, 5, 1]])\n",
        "one_hot = one_hot_encode(test_seq, 8)\n",
        "\n",
        "print(one_hot)"
      ]
    },
    {
      "cell_type": "markdown",
      "metadata": {
        "id": "NexQl98B-f89"
      },
      "source": [
        "## Making training mini-batches\n",
        "\n",
        "\n",
        "To train on this data, we also want to create mini-batches for training. Remember that we want our batches to be multiple sequences of some desired number of sequence steps. Considering a simple example, our batches would look like this:\n",
        "\n",
        "<img src=\"assets/sequence_batching@1x.png\" width=500px>\n",
        "\n",
        "\n",
        "<br>\n",
        "\n",
        "In this example, we'll take the encoded characters (passed in as the `arr` parameter) and split them into multiple sequences, given by `batch_size`. Each of our sequences will be `seq_length` long.\n",
        "\n",
        "### Creating Batches\n",
        "\n",
        "**1. The first thing we need to do is discard some of the text so we only have completely full mini-batches. **\n",
        "\n",
        "Each batch contains $N \\times M$ characters, where $N$ is the batch size (the number of sequences in a batch) and $M$ is the seq_length or number of time steps in a sequence. Then, to get the total number of batches, $K$, that we can make from the array `arr`, you divide the length of `arr` by the number of characters per batch. Once you know the number of batches, you can get the total number of characters to keep from `arr`, $N * M * K$.\n",
        "\n",
        "**2. After that, we need to split `arr` into $N$ batches. **\n",
        "\n",
        "You can do this using `arr.reshape(size)` where `size` is a tuple containing the dimensions sizes of the reshaped array. We know we want $N$ sequences in a batch, so let's make that the size of the first dimension. For the second dimension, you can use `-1` as a placeholder in the size, it'll fill up the array with the appropriate data for you. After this, you should have an array that is $N \\times (M * K)$.\n",
        "\n",
        "**3. Now that we have this array, we can iterate through it to get our mini-batches. **\n",
        "\n",
        "The idea is each batch is a $N \\times M$ window on the $N \\times (M * K)$ array. For each subsequent batch, the window moves over by `seq_length`. We also want to create both the input and target arrays. Remember that the targets are just the inputs shifted over by one character. The way I like to do this window is use `range` to take steps of size `n_steps` from $0$ to `arr.shape[1]`, the total number of tokens in each sequence. That way, the integers you get from `range` always point to the start of a batch, and each window is `seq_length` wide."
      ]
    },
    {
      "cell_type": "code",
      "execution_count": 9,
      "metadata": {
        "id": "_oq8ttKj-f89"
      },
      "outputs": [],
      "source": [
        "def get_batches(arr, batch_size, seq_length):\n",
        "    '''Create a generator that returns batches of size\n",
        "       batch_size x seq_length from arr.\n",
        "\n",
        "       Arguments\n",
        "       ---------\n",
        "       arr: Array you want to make batches from\n",
        "       batch_size: Batch size, the number of sequences per batch\n",
        "       seq_length: Number of encoded chars in a sequence\n",
        "    '''\n",
        "\n",
        "    ## TODO: Get the number of batches we can make\n",
        "    n_batches = len(arr) // seq_length // batch_size\n",
        "\n",
        "    ## TODO: Keep only enough characters to make full batches\n",
        "    arr = arr[:seq_length * batch_size * n_batches]\n",
        "\n",
        "    ## TODO: Reshape into batch_size rows\n",
        "    arr = arr.reshape((batch_size, -1))\n",
        "\n",
        "    ## TODO: Iterate over the batches using a window of size seq_length\n",
        "    for n in range(0, n_batches - 1):\n",
        "        # The features\n",
        "        x = arr[:, seq_length * n: seq_length * (n + 1)]\n",
        "        # The targets, shifted by one\n",
        "        y = arr[:, seq_length * n + 1: seq_length * (n + 1) + 1]\n",
        "        yield x, y"
      ]
    },
    {
      "cell_type": "markdown",
      "metadata": {
        "id": "adk1_0SL-f8-"
      },
      "source": [
        "### Test Your Implementation\n",
        "\n",
        "Now I'll make some data sets and we can check out what's going on as we batch data. Here, as an example, I'm going to use a batch size of 8 and 50 sequence steps."
      ]
    },
    {
      "cell_type": "code",
      "execution_count": 10,
      "metadata": {
        "id": "b2ZtwK1q-f8-"
      },
      "outputs": [],
      "source": [
        "batches = get_batches(encoded, 8, 50)\n",
        "x, y = next(batches)"
      ]
    },
    {
      "cell_type": "code",
      "execution_count": 11,
      "metadata": {
        "colab": {
          "base_uri": "https://localhost:8080/"
        },
        "id": "U0v4M2oI-f8_",
        "outputId": "edb0ee0c-3a34-471c-8175-e1ef154cdb62"
      },
      "outputs": [
        {
          "output_type": "stream",
          "name": "stdout",
          "text": [
            "x\n",
            " [[34 35 13 23  6 40 59 11 34 66]\n",
            " [11 29 26 11 29  5  6 11 10  6]\n",
            " [26 29 29 35  6 11  5 70 66 11]\n",
            " [44  2 13 21 10 11 13 29 11 66]\n",
            " [ 2 13 21 10 11 29  6 70 11 70]\n",
            " [11 26 21 17 11 29  5  6 21 49]\n",
            " [35 46 11 10 26 26 66 11 59 23]\n",
            " [29 11 64  7 13 29  6 11 53 13]]\n",
            "\n",
            "y\n",
            " [[35 13 23  6 40 59 11 34 66  2]\n",
            " [29 26 11 29  5  6 11 10  6 21]\n",
            " [29 29 35  6 11  5 70 66 11 21]\n",
            " [ 2 13 21 10 11 13 29 11 66 26]\n",
            " [13 21 10 11 29  6 70 11 70 29]\n",
            " [26 21 17 11 29  5  6 21 49 40]\n",
            " [46 11 10 26 26 66 11 59 23  5]\n",
            " [11 64  7 13 29  6 11 53 13 21]]\n"
          ]
        }
      ],
      "source": [
        "# printing out the first 10 items in a sequence\n",
        "print('x\\n', x[:10, :10])\n",
        "print('\\ny\\n', y[:10, :10])"
      ]
    },
    {
      "cell_type": "markdown",
      "metadata": {
        "id": "w5ZgyeAQ-f8_"
      },
      "source": [
        "If you implemented `get_batches` correctly, the above output should look something like\n",
        "```\n",
        "x\n",
        " [[25  8 60 11 45 27 28 73  1  2]\n",
        " [17  7 20 73 45  8 60 45 73 60]\n",
        " [27 20 80 73  7 28 73 60 73 65]\n",
        " [17 73 45  8 27 73 66  8 46 27]\n",
        " [73 17 60 12 73  8 27 28 73 45]\n",
        " [66 64 17 17 46  7 20 73 60 20]\n",
        " [73 76 20 20 60 73  8 60 80 73]\n",
        " [47 35 43  7 20 17 24 50 37 73]]\n",
        "\n",
        "y\n",
        " [[ 8 60 11 45 27 28 73  1  2  2]\n",
        " [ 7 20 73 45  8 60 45 73 60 45]\n",
        " [20 80 73  7 28 73 60 73 65  7]\n",
        " [73 45  8 27 73 66  8 46 27 65]\n",
        " [17 60 12 73  8 27 28 73 45 27]\n",
        " [64 17 17 46  7 20 73 60 20 80]\n",
        " [76 20 20 60 73  8 60 80 73 17]\n",
        " [35 43  7 20 17 24 50 37 73 36]]\n",
        " ```\n",
        " although the exact numbers may be different. Check to make sure the data is shifted over one step for `y`."
      ]
    },
    {
      "cell_type": "markdown",
      "metadata": {
        "id": "lU1dw0Fu-f9A"
      },
      "source": [
        "---\n",
        "## Defining the network with PyTorch\n",
        "\n",
        "Below is where you'll define the network.\n",
        "\n",
        "<img src=\"assets/charRNN.png\" width=500px>\n",
        "\n",
        "Next, you'll use PyTorch to define the architecture of the network. We start by defining the layers and operations we want. Then, define a method for the forward pass. You've also been given a method for predicting characters."
      ]
    },
    {
      "cell_type": "markdown",
      "metadata": {
        "id": "IQFZdWAt-f9A"
      },
      "source": [
        "### Model Structure\n",
        "\n",
        "In `__init__` the suggested structure is as follows:\n",
        "* Create and store the necessary dictionaries (this has been done for you)\n",
        "* Define an LSTM layer that takes as params: an input size (the number of characters), a hidden layer size `n_hidden`, a number of layers `n_layers`, a dropout probability `drop_prob`, and a batch_first boolean (True, since we are batching)\n",
        "* Define a dropout layer with `dropout_prob`\n",
        "* Define a fully-connected layer with params: input size `n_hidden` and output size (the number of characters)\n",
        "* Finally, initialize the weights (again, this has been given)\n",
        "\n",
        "Note that some parameters have been named and given in the `__init__` function, and we use them and store them by doing something like `self.drop_prob = drop_prob`."
      ]
    },
    {
      "cell_type": "markdown",
      "metadata": {
        "id": "aySoBSzP-f9A"
      },
      "source": [
        "---\n",
        "### LSTM Inputs/Outputs\n",
        "\n",
        "You can create a basic [LSTM layer](https://pytorch.org/docs/stable/nn.html#lstm) as follows\n",
        "\n",
        "```python\n",
        "self.lstm = nn.LSTM(input_size, n_hidden, n_layers,\n",
        "                            dropout=drop_prob, batch_first=True)\n",
        "```\n",
        "\n",
        "where `input_size` is the number of characters this cell expects to see as sequential input, and `n_hidden` is the number of units in the hidden layers in the cell. And we can add dropout by adding a dropout parameter with a specified probability; this will automatically add dropout to the inputs or outputs. Finally, in the `forward` function, we can stack up the LSTM cells into layers using `.view`. With this, you pass in a list of cells and it will send the output of one cell into the next cell.\n",
        "\n",
        "We also need to create an initial hidden state of all zeros. This is done like so\n",
        "\n",
        "```python\n",
        "self.init_hidden()\n",
        "```"
      ]
    },
    {
      "cell_type": "code",
      "execution_count": 12,
      "metadata": {
        "colab": {
          "base_uri": "https://localhost:8080/"
        },
        "id": "49ep6Dbz-f9B",
        "outputId": "766d42b8-9f10-4e1a-9199-da63170ad8ae"
      },
      "outputs": [
        {
          "output_type": "stream",
          "name": "stdout",
          "text": [
            "No GPU available, training on CPU; consider making n_epochs very small.\n"
          ]
        }
      ],
      "source": [
        "# check if GPU is available (replace with \"backends.cuda\" below if Nvidia GPU is available)\n",
        "train_on_gpu = torch.backends.mps.is_available()\n",
        "device = \"cpu\"\n",
        "if(train_on_gpu):\n",
        "    print('Training on GPU!')\n",
        "    device = \"mps\"\n",
        "else:\n",
        "    print('No GPU available, training on CPU; consider making n_epochs very small.')"
      ]
    },
    {
      "cell_type": "code",
      "execution_count": 13,
      "metadata": {
        "id": "uga7WpPZ-f9C"
      },
      "outputs": [],
      "source": [
        "class CharRNN(nn.Module):\n",
        "\n",
        "    def __init__(self, tokens, n_hidden=256, n_layers=2,\n",
        "                               drop_prob=0.5, lr=0.001):\n",
        "        super().__init__()\n",
        "        self.drop_prob = drop_prob\n",
        "        self.n_layers = n_layers\n",
        "        self.n_hidden = n_hidden\n",
        "        self.lr = lr\n",
        "\n",
        "        # creating character dictionaries\n",
        "        self.chars = tokens\n",
        "        self.int2char = dict(enumerate(self.chars))\n",
        "        self.char2int = {ch: ii for ii, ch in self.int2char.items()}\n",
        "\n",
        "        ## TODO: define the layers of the model\n",
        "        self.lstm = nn.LSTM(len(self.chars), n_hidden, n_layers, dropout=drop_prob, batch_first=True)\n",
        "\n",
        "        ## TODO: define a dropout layer\n",
        "        self.dropout = nn.Dropout(drop_prob)\n",
        "\n",
        "        ## TODO: define the final, fully-connected output layer\n",
        "        self.fc = nn.Linear(n_hidden, len(self.chars))\n",
        "\n",
        "    def forward(self, x, hidden):\n",
        "        ''' Forward pass through the network.\n",
        "            These inputs are x, and the hidden/cell state `hidden`. '''\n",
        "\n",
        "        ## TODO: Get the outputs and the new hidden state from the lstm\n",
        "        out, hidden = self.lstm(x, hidden)\n",
        "        out = self.dropout(out)\n",
        "        out = out.contiguous().view(-1, self.n_hidden)\n",
        "        out = self.fc(out)\n",
        "        # return the final output and the hidden state\n",
        "        return out, hidden\n",
        "\n",
        "\n",
        "    def init_hidden(self, batch_size):\n",
        "        ''' Initializes hidden state '''\n",
        "        # Create two new tensors with sizes n_layers x batch_size x n_hidden,\n",
        "        # initialized to zero, for hidden state and cell state of LSTM\n",
        "        weight = next(self.parameters()).data\n",
        "\n",
        "        if (train_on_gpu):\n",
        "            hidden = (weight.new(self.n_layers, batch_size, self.n_hidden).zero_().to(device),\n",
        "                  weight.new(self.n_layers, batch_size, self.n_hidden).zero_().to(device))\n",
        "        else:\n",
        "            hidden = (weight.new(self.n_layers, batch_size, self.n_hidden).zero_(),\n",
        "                      weight.new(self.n_layers, batch_size, self.n_hidden).zero_())\n",
        "\n",
        "        return hidden\n",
        ""
      ]
    },
    {
      "cell_type": "markdown",
      "metadata": {
        "id": "yUx6FrSn-f9D"
      },
      "source": [
        "## Time to train\n",
        "\n",
        "The train function gives us the ability to set the number of epochs, the learning rate, and other parameters.\n",
        "\n",
        "Below we're using an Adam optimizer and cross entropy loss since we are looking at character class scores as output. We calculate the loss and perform backpropagation, as usual!\n",
        "\n",
        "A couple of details about training:\n",
        ">* Within the batch loop, we detach the hidden state from its history; this time setting it equal to a new *tuple* variable because an LSTM has a hidden state that is a tuple of the hidden and cell states.\n",
        "* We use [`clip_grad_norm_`](https://pytorch.org/docs/stable/_modules/torch/nn/utils/clip_grad.html) to help prevent exploding gradients."
      ]
    },
    {
      "cell_type": "code",
      "execution_count": 14,
      "metadata": {
        "id": "Fgdc1Rq--f9D"
      },
      "outputs": [],
      "source": [
        "def train(net, data, epochs=10, batch_size=10, seq_length=50, lr=0.001, clip=5, val_frac=0.1, print_every=10):\n",
        "    ''' Training a network\n",
        "\n",
        "        Arguments\n",
        "        ---------\n",
        "\n",
        "        net: CharRNN network\n",
        "        data: text data to train the network\n",
        "        epochs: Number of epochs to train\n",
        "        batch_size: Number of mini-sequences per mini-batch, aka batch size\n",
        "        seq_length: Number of character steps per mini-batch\n",
        "        lr: learning rate\n",
        "        clip: gradient clipping\n",
        "        val_frac: Fraction of data to hold out for validation\n",
        "        print_every: Number of steps for printing training and validation loss\n",
        "\n",
        "    '''\n",
        "    net.train()\n",
        "\n",
        "    opt = torch.optim.Adam(net.parameters(), lr=lr)\n",
        "    criterion = nn.CrossEntropyLoss()\n",
        "\n",
        "    # create training and validation data\n",
        "    val_idx = int(len(data)*(1-val_frac))\n",
        "    data, val_data = data[:val_idx], data[val_idx:]\n",
        "\n",
        "    if(train_on_gpu):\n",
        "        net.to(device)\n",
        "\n",
        "    counter = 0\n",
        "    n_chars = len(net.chars)\n",
        "    for e in range(epochs):\n",
        "        # initialize hidden state\n",
        "        h = net.init_hidden(batch_size)\n",
        "\n",
        "        for x, y in get_batches(data, batch_size, seq_length):\n",
        "            counter += 1\n",
        "\n",
        "            # One-hot encode our data and make them Torch tensors\n",
        "            x = one_hot_encode(x, n_chars)\n",
        "            inputs, targets = torch.from_numpy(x), torch.from_numpy(y)\n",
        "\n",
        "            if(train_on_gpu):\n",
        "                inputs, targets = inputs.to(device), targets.to(device)\n",
        "\n",
        "            # Creating new variables for the hidden state, otherwise\n",
        "            # we'd backprop through the entire training history\n",
        "            h = tuple([each.data for each in h])\n",
        "\n",
        "            # zero accumulated gradients\n",
        "            net.zero_grad()\n",
        "\n",
        "            # get the output from the model\n",
        "            output, h = net(inputs, h)\n",
        "\n",
        "            # calculate the loss and perform backprop\n",
        "            loss = criterion(output, targets.reshape(batch_size*seq_length))\n",
        "            loss.backward()\n",
        "            # `clip_grad_norm` helps prevent the exploding gradient problem in RNNs / LSTMs.\n",
        "            nn.utils.clip_grad_norm_(net.parameters(), clip)\n",
        "            opt.step()\n",
        "\n",
        "            # loss stats\n",
        "            if counter % print_every == 0:\n",
        "                # Get validation loss\n",
        "                val_h = net.init_hidden(batch_size)\n",
        "                val_losses = []\n",
        "                net.eval()\n",
        "                for x, y in get_batches(val_data, batch_size, seq_length):\n",
        "                    # One-hot encode our data and make them Torch tensors\n",
        "                    x = one_hot_encode(x, n_chars)\n",
        "                    x, y = torch.from_numpy(x), torch.from_numpy(y)\n",
        "\n",
        "                    # Creating new variables for the hidden state, otherwise\n",
        "                    # we'd backprop through the entire training history\n",
        "                    val_h = tuple([each.data for each in val_h])\n",
        "\n",
        "                    inputs, targets = x, y\n",
        "                    if(train_on_gpu):\n",
        "                        inputs, targets = inputs.to(device), targets.to(device)\n",
        "\n",
        "                    output, val_h = net(inputs, val_h)\n",
        "                    val_loss = criterion(output, targets.reshape(batch_size*seq_length))\n",
        "\n",
        "                    val_losses.append(val_loss.item())\n",
        "\n",
        "                net.train() # reset to train mode after iterationg through validation data\n",
        "\n",
        "                print(\"Epoch: {}/{}...\".format(e+1, epochs),\n",
        "                      \"Step: {}...\".format(counter),\n",
        "                      \"Loss: {:.4f}...\".format(loss.item()),\n",
        "                      \"Val Loss: {:.4f}\".format(np.mean(val_losses)))"
      ]
    },
    {
      "cell_type": "markdown",
      "metadata": {
        "id": "ZKvtjD6P-f9E"
      },
      "source": [
        "## Instantiating the model\n",
        "\n",
        "Now we can actually train the network. First we'll create the network itself, with some given hyperparameters. Then, define the mini-batches sizes, and start training!"
      ]
    },
    {
      "cell_type": "code",
      "execution_count": 20,
      "metadata": {
        "colab": {
          "base_uri": "https://localhost:8080/"
        },
        "id": "XVjvg62Q-f9E",
        "outputId": "47dc0d1a-7d0c-4e1e-d94a-fd535c033b2e"
      },
      "outputs": [
        {
          "output_type": "stream",
          "name": "stdout",
          "text": [
            "CharRNN(\n",
            "  (lstm): LSTM(72, 64, num_layers=3, batch_first=True, dropout=0.5)\n",
            "  (dropout): Dropout(p=0.5, inplace=False)\n",
            "  (fc): Linear(in_features=64, out_features=72, bias=True)\n",
            ")\n"
          ]
        }
      ],
      "source": [
        "## TODO: set you model hyperparameters\n",
        "\n",
        "n_hidden = 64\n",
        "n_layers = 3\n",
        "\n",
        "net = CharRNN(tokens=chars, n_hidden=n_hidden, n_layers=n_layers)\n",
        "print(net)"
      ]
    },
    {
      "cell_type": "markdown",
      "metadata": {
        "id": "Mp6h0Ewq-f9F"
      },
      "source": [
        "### Set your training hyperparameters!"
      ]
    },
    {
      "cell_type": "code",
      "execution_count": 21,
      "metadata": {
        "scrolled": true,
        "colab": {
          "base_uri": "https://localhost:8080/"
        },
        "id": "084HfRJj-f9F",
        "outputId": "5053dc97-20d6-4003-ba01-48d08c266c2b"
      },
      "outputs": [
        {
          "output_type": "stream",
          "name": "stdout",
          "text": [
            "Epoch: 1/20... Step: 10... Loss: 4.1795... Val Loss: 4.1611\n",
            "Epoch: 1/20... Step: 20... Loss: 3.5915... Val Loss: 3.5334\n",
            "Epoch: 1/20... Step: 30... Loss: 3.3262... Val Loss: 3.2682\n",
            "Epoch: 1/20... Step: 40... Loss: 3.2326... Val Loss: 3.2055\n",
            "Epoch: 2/20... Step: 50... Loss: 3.2408... Val Loss: 3.1898\n",
            "Epoch: 2/20... Step: 60... Loss: 3.1736... Val Loss: 3.1839\n",
            "Epoch: 2/20... Step: 70... Loss: 3.2054... Val Loss: 3.1835\n",
            "Epoch: 2/20... Step: 80... Loss: 3.1858... Val Loss: 3.1827\n",
            "Epoch: 3/20... Step: 90... Loss: 3.2007... Val Loss: 3.1805\n",
            "Epoch: 3/20... Step: 100... Loss: 3.1451... Val Loss: 3.1798\n",
            "Epoch: 3/20... Step: 110... Loss: 3.1739... Val Loss: 3.1805\n",
            "Epoch: 3/20... Step: 120... Loss: 3.1610... Val Loss: 3.1802\n",
            "Epoch: 4/20... Step: 130... Loss: 3.1850... Val Loss: 3.1790\n",
            "Epoch: 4/20... Step: 140... Loss: 3.1298... Val Loss: 3.1787\n",
            "Epoch: 4/20... Step: 150... Loss: 3.1712... Val Loss: 3.1796\n",
            "Epoch: 4/20... Step: 160... Loss: 3.1461... Val Loss: 3.1793\n",
            "Epoch: 5/20... Step: 170... Loss: 3.1744... Val Loss: 3.1784\n",
            "Epoch: 5/20... Step: 180... Loss: 3.1260... Val Loss: 3.1781\n",
            "Epoch: 5/20... Step: 190... Loss: 3.1563... Val Loss: 3.1789\n",
            "Epoch: 5/20... Step: 200... Loss: 3.1497... Val Loss: 3.1787\n",
            "Epoch: 6/20... Step: 210... Loss: 3.1678... Val Loss: 3.1782\n",
            "Epoch: 6/20... Step: 220... Loss: 3.1172... Val Loss: 3.1774\n",
            "Epoch: 6/20... Step: 230... Loss: 3.1395... Val Loss: 3.1784\n",
            "Epoch: 6/20... Step: 240... Loss: 3.1386... Val Loss: 3.1784\n",
            "Epoch: 7/20... Step: 250... Loss: 3.1521... Val Loss: 3.1777\n",
            "Epoch: 7/20... Step: 260... Loss: 3.1180... Val Loss: 3.1771\n",
            "Epoch: 7/20... Step: 270... Loss: 3.1524... Val Loss: 3.1779\n",
            "Epoch: 7/20... Step: 280... Loss: 3.1364... Val Loss: 3.1777\n",
            "Epoch: 8/20... Step: 290... Loss: 3.1573... Val Loss: 3.1764\n",
            "Epoch: 8/20... Step: 300... Loss: 3.1083... Val Loss: 3.1754\n",
            "Epoch: 8/20... Step: 310... Loss: 3.1437... Val Loss: 3.1752\n",
            "Epoch: 8/20... Step: 320... Loss: 3.1331... Val Loss: 3.1742\n",
            "Epoch: 9/20... Step: 330... Loss: 3.1555... Val Loss: 3.1706\n",
            "Epoch: 9/20... Step: 340... Loss: 3.0961... Val Loss: 3.1647\n",
            "Epoch: 9/20... Step: 350... Loss: 3.1289... Val Loss: 3.1608\n",
            "Epoch: 9/20... Step: 360... Loss: 3.1133... Val Loss: 3.1503\n",
            "Epoch: 10/20... Step: 370... Loss: 3.1294... Val Loss: 3.1339\n",
            "Epoch: 10/20... Step: 380... Loss: 3.0651... Val Loss: 3.1134\n",
            "Epoch: 10/20... Step: 390... Loss: 3.0868... Val Loss: 3.0910\n",
            "Epoch: 10/20... Step: 400... Loss: 3.0616... Val Loss: 3.0676\n",
            "Epoch: 11/20... Step: 410... Loss: 3.0595... Val Loss: 3.0459\n",
            "Epoch: 11/20... Step: 420... Loss: 2.9934... Val Loss: 3.0244\n",
            "Epoch: 11/20... Step: 430... Loss: 3.0194... Val Loss: 3.0070\n",
            "Epoch: 11/20... Step: 440... Loss: 3.0069... Val Loss: 2.9889\n",
            "Epoch: 12/20... Step: 450... Loss: 2.9873... Val Loss: 2.9727\n",
            "Epoch: 12/20... Step: 460... Loss: 2.9363... Val Loss: 2.9538\n",
            "Epoch: 12/20... Step: 470... Loss: 2.9604... Val Loss: 2.9377\n",
            "Epoch: 12/20... Step: 480... Loss: 2.9467... Val Loss: 2.9250\n",
            "Epoch: 13/20... Step: 490... Loss: 2.9350... Val Loss: 2.9078\n",
            "Epoch: 13/20... Step: 500... Loss: 2.8698... Val Loss: 2.8938\n",
            "Epoch: 13/20... Step: 510... Loss: 2.8937... Val Loss: 2.8823\n",
            "Epoch: 13/20... Step: 520... Loss: 2.9166... Val Loss: 2.8700\n",
            "Epoch: 14/20... Step: 530... Loss: 2.9016... Val Loss: 2.8576\n",
            "Epoch: 14/20... Step: 540... Loss: 2.8505... Val Loss: 2.8447\n",
            "Epoch: 14/20... Step: 550... Loss: 2.8670... Val Loss: 2.8401\n",
            "Epoch: 14/20... Step: 560... Loss: 2.8563... Val Loss: 2.8299\n",
            "Epoch: 15/20... Step: 570... Loss: 2.8577... Val Loss: 2.8196\n",
            "Epoch: 15/20... Step: 580... Loss: 2.8149... Val Loss: 2.8100\n",
            "Epoch: 15/20... Step: 590... Loss: 2.8234... Val Loss: 2.8035\n",
            "Epoch: 15/20... Step: 600... Loss: 2.8317... Val Loss: 2.7929\n",
            "Epoch: 16/20... Step: 610... Loss: 2.8327... Val Loss: 2.7855\n",
            "Epoch: 16/20... Step: 620... Loss: 2.7884... Val Loss: 2.7781\n",
            "Epoch: 16/20... Step: 630... Loss: 2.7788... Val Loss: 2.7665\n",
            "Epoch: 16/20... Step: 640... Loss: 2.7989... Val Loss: 2.7570\n",
            "Epoch: 17/20... Step: 650... Loss: 2.7897... Val Loss: 2.7516\n",
            "Epoch: 17/20... Step: 660... Loss: 2.7500... Val Loss: 2.7447\n",
            "Epoch: 17/20... Step: 670... Loss: 2.7586... Val Loss: 2.7385\n",
            "Epoch: 17/20... Step: 680... Loss: 2.7720... Val Loss: 2.7254\n",
            "Epoch: 18/20... Step: 690... Loss: 2.7697... Val Loss: 2.7176\n",
            "Epoch: 18/20... Step: 700... Loss: 2.7258... Val Loss: 2.7103\n",
            "Epoch: 18/20... Step: 710... Loss: 2.7156... Val Loss: 2.7075\n",
            "Epoch: 18/20... Step: 720... Loss: 2.7515... Val Loss: 2.6922\n",
            "Epoch: 19/20... Step: 730... Loss: 2.7475... Val Loss: 2.6874\n",
            "Epoch: 19/20... Step: 740... Loss: 2.7128... Val Loss: 2.6839\n",
            "Epoch: 19/20... Step: 750... Loss: 2.7060... Val Loss: 2.6780\n",
            "Epoch: 19/20... Step: 760... Loss: 2.7346... Val Loss: 2.6678\n",
            "Epoch: 20/20... Step: 770... Loss: 2.7177... Val Loss: 2.6634\n",
            "Epoch: 20/20... Step: 780... Loss: 2.6813... Val Loss: 2.6524\n",
            "Epoch: 20/20... Step: 790... Loss: 2.6739... Val Loss: 2.6483\n",
            "Epoch: 20/20... Step: 800... Loss: 2.6976... Val Loss: 2.6413\n"
          ]
        }
      ],
      "source": [
        "batch_size = 32\n",
        "seq_length = 100\n",
        "n_epochs = 20  # Start smaller if you are just testing initial behavior\n",
        "\n",
        "# Train the model\n",
        "train(net, encoded, epochs=n_epochs, batch_size=batch_size, seq_length=seq_length, lr=0.001)"
      ]
    },
    {
      "cell_type": "markdown",
      "metadata": {
        "id": "80Qgd7V--f9G"
      },
      "source": [
        "## Getting the best model\n",
        "\n",
        "To set your hyperparameters to get the best performance, you'll want to watch the training and validation losses. If your training loss is much lower than the validation loss, you're overfitting. Increase regularization (more dropout) or use a smaller network. If the training and validation losses are close, you're underfitting so you can increase the size of the network."
      ]
    },
    {
      "cell_type": "markdown",
      "metadata": {
        "id": "gnM26iqK-f9G"
      },
      "source": [
        "## Hyperparameters\n",
        "\n",
        "Here are the hyperparameters for the network.\n",
        "\n",
        "In defining the model:\n",
        "* `n_hidden` - The number of units in the hidden layers.\n",
        "* `n_layers` - Number of hidden LSTM layers to use.\n",
        "\n",
        "We assume that dropout probability and learning rate will be kept at the default, in this example.\n",
        "\n",
        "And in training:\n",
        "* `batch_size` - Number of sequences running through the network in one pass.\n",
        "* `seq_length` - Number of characters in the sequence the network is trained on. Larger is better typically, the network will learn more long range dependencies. But it takes longer to train. 100 is typically a good number here.\n",
        "* `lr` - Learning rate for training\n",
        "\n",
        "Here's some good advice from Andrej Karpathy on training the network. I'm going to copy it in here for your benefit, but also link to [where it originally came from](https://github.com/karpathy/char-rnn#tips-and-tricks).\n",
        "\n",
        "> ## Tips and Tricks\n",
        "\n",
        ">### Monitoring Validation Loss vs. Training Loss\n",
        ">If you're somewhat new to Machine Learning or Neural Networks it can take a bit of expertise to get good models. The most important quantity to keep track of is the difference between your training loss (printed during training) and the validation loss (printed once in a while when the RNN is run on the validation data (by default every 1000 iterations)). In particular:\n",
        "\n",
        "> - If your training loss is much lower than validation loss then this means the network might be **overfitting**. Solutions to this are to decrease your network size, or to increase dropout. For example you could try dropout of 0.5 and so on.\n",
        "> - If your training/validation loss are about equal then your model is **underfitting**. Increase the size of your model (either number of layers or the raw number of neurons per layer)\n",
        "\n",
        "> ### Approximate number of parameters\n",
        "\n",
        "> The two most important parameters that control the model are `n_hidden` and `n_layers`. I would advise that you always use `n_layers` of either 2/3. The `n_hidden` can be adjusted based on how much data you have. The two important quantities to keep track of here are:\n",
        "\n",
        "> - The number of parameters in your model. This is printed when you start training.\n",
        "> - The size of your dataset. 1MB file is approximately 1 million characters.\n",
        "\n",
        ">These two should be about the same order of magnitude. It's a little tricky to tell. Here are some examples:\n",
        "\n",
        "> - I have a 100MB dataset and I'm using the default parameter settings (which currently print 150K parameters). My data size is significantly larger (100 mil >> 0.15 mil), so I expect to heavily underfit. I am thinking I can comfortably afford to make `n_hidden` larger.\n",
        "> - I have a 10MB dataset and running a 10 million parameter model. I'm slightly nervous and I'm carefully monitoring my validation loss. If it's larger than my training loss then I may want to try to increase dropout a bit and see if that helps the validation loss.\n",
        "\n",
        "> ### Best models strategy\n",
        "\n",
        ">The winning strategy to obtaining very good models (if you have the compute time) is to always err on making the network larger (as large as you're willing to wait for it to compute) and then try different dropout values (between 0,1). Whatever model has the best validation performance (the loss, written in the checkpoint filename, low is good) is the one you should use in the end.\n",
        "\n",
        ">It is very common in deep learning to run many different models with many different hyperparameter settings, and in the end take whatever checkpoint gave the best validation performance.\n",
        "\n",
        ">By the way, the size of your training and validation splits are also parameters. Make sure you have a decent amount of data in your validation set or otherwise the validation performance will be noisy and not very informative."
      ]
    },
    {
      "cell_type": "markdown",
      "metadata": {
        "id": "Er50HCIF-f9G"
      },
      "source": [
        "## Checkpoint\n",
        "\n",
        "After training, we'll save the model so we can load it again later if we need too. Here I'm saving the parameters needed to create the same architecture, the hidden layer hyperparameters and the text characters."
      ]
    },
    {
      "cell_type": "code",
      "execution_count": 22,
      "metadata": {
        "id": "2Gtb2kBE-f9H"
      },
      "outputs": [],
      "source": [
        "# change the name, for saving multiple files\n",
        "model_name = 'rnn_x_epoch.net'\n",
        "\n",
        "checkpoint = {'n_hidden': net.n_hidden,\n",
        "              'n_layers': net.n_layers,\n",
        "              'state_dict': net.state_dict(),\n",
        "              'tokens': net.chars}\n",
        "\n",
        "with open(model_name, 'wb') as f:\n",
        "    torch.save(checkpoint, f)"
      ]
    },
    {
      "cell_type": "markdown",
      "metadata": {
        "id": "NCG7GC_5-f-U"
      },
      "source": [
        "---\n",
        "## Making Predictions\n",
        "\n",
        "Now that the model is trained, we'll want to sample from it and make predictions about next characters! To sample, we pass in a character and have the network predict the next character. Then we take that character, pass it back in, and get another predicted character. Just keep doing this and you'll generate a bunch of text!\n",
        "\n",
        "### A note on the `predict`  function\n",
        "\n",
        "The output of our RNN is from a fully-connected layer and it outputs a **distribution of next-character scores**.\n",
        "\n",
        "> To actually get the next character, we apply a softmax function, which gives us a *probability* distribution that we can then sample to predict the next character.\n",
        "\n",
        "### Top K sampling\n",
        "\n",
        "Our predictions come from a categorical probability distribution over all the possible characters. We can make the sample text and make it more reasonable to handle (with less variables) by only considering some $K$ most probable characters. This will prevent the network from giving us completely absurd characters while allowing it to introduce some noise and randomness into the sampled text. Read more about [topk, here](https://pytorch.org/docs/stable/torch.html#torch.topk).\n"
      ]
    },
    {
      "cell_type": "code",
      "execution_count": 23,
      "metadata": {
        "id": "0TrG-me1-f-V"
      },
      "outputs": [],
      "source": [
        "def predict(net, char, h=None, top_k=None):\n",
        "        ''' Given a character, predict the next character.\n",
        "            Returns the predicted character and the hidden state.\n",
        "        '''\n",
        "\n",
        "        # tensor inputs\n",
        "        x = np.array([[net.char2int[char]]])\n",
        "        x = one_hot_encode(x, len(net.chars))\n",
        "        inputs = torch.from_numpy(x)\n",
        "\n",
        "        if(train_on_gpu):\n",
        "            inputs = inputs.to(device)\n",
        "\n",
        "        # detach hidden state from history\n",
        "        h = tuple([each.data for each in h])\n",
        "        # get the output of the model\n",
        "        out, h = net(inputs, h)\n",
        "\n",
        "        # get the character probabilities\n",
        "        p = F.softmax(out, dim=1).data\n",
        "        if(train_on_gpu):\n",
        "            p = p.cpu() # move to cpu\n",
        "\n",
        "        # get top characters\n",
        "        if top_k is None:\n",
        "            top_ch = np.arange(len(net.chars))\n",
        "        else:\n",
        "            p, top_ch = p.topk(top_k)\n",
        "            top_ch = top_ch.numpy().squeeze()\n",
        "\n",
        "        # select the likely next character with some element of randomness\n",
        "        p = p.numpy().squeeze()\n",
        "        char = np.random.choice(top_ch, p=p/p.sum())\n",
        "\n",
        "        # return the encoded value of the predicted char and the hidden state\n",
        "        return net.int2char[char], h"
      ]
    },
    {
      "cell_type": "markdown",
      "metadata": {
        "id": "3pJf3CSr-f-Y"
      },
      "source": [
        "### Priming and generating text\n",
        "\n",
        "Typically you'll want to prime the network so you can build up a hidden state. Otherwise the network will start out generating characters at random. In general the first bunch of characters will be a little rough since it hasn't built up a long history of characters to predict from."
      ]
    },
    {
      "cell_type": "code",
      "execution_count": 25,
      "metadata": {
        "id": "ClQ8V934-f-Y"
      },
      "outputs": [],
      "source": [
        "def sample(net, size, prime='The', top_k=None):\n",
        "\n",
        "    if(train_on_gpu):\n",
        "        net.to(device)\n",
        "    else:\n",
        "        net.cpu()\n",
        "\n",
        "    net.eval() # eval mode\n",
        "\n",
        "    # First off, run through the prime characters\n",
        "    chars = [ch for ch in prime]\n",
        "    h = net.init_hidden(1)\n",
        "    for ch in prime:\n",
        "        char, h = predict(net, ch, h, top_k=top_k)\n",
        "\n",
        "    chars.append(char)\n",
        "\n",
        "    # Now pass in the previous character and get a new one\n",
        "    for ii in range(size):\n",
        "        char, h = predict(net, chars[-1], h, top_k=top_k)\n",
        "        chars.append(char)\n",
        "\n",
        "    return ''.join(chars)"
      ]
    },
    {
      "cell_type": "code",
      "execution_count": 26,
      "metadata": {
        "colab": {
          "base_uri": "https://localhost:8080/"
        },
        "id": "SkvPH44d-f-a",
        "outputId": "d2230360-f40b-443c-db5d-8d202fe3be05"
      },
      "outputs": [
        {
          "output_type": "stream",
          "name": "stdout",
          "text": [
            "Aliceen nhat sash, shor te ad sounn whateeth ages,e ann atito a chat sirl wenn ner toen nint\n",
            "ad wot naseese das te neriall thees te ann tho als, te nerete lhe tease cirt, nh tate whatos tat not the\n",
            "tiat seiton ag\n",
            "tirt neudoto tanderer an to nh to neen it sititan te nod toetet nin sate wet tois tor ad so lar dialt naal coteederiwaste siann teetitoe don noth' aen nhe the and, teiritor nos tor tho woter whitor whasiad tadher ald, to sarn,e to the tinn and noreet toer ant an nh n te at was ad niter ther sos shees tanl tate taditor siteeto nenne sisitor ader tho son sas tat tandesishe tath tho tard at, nore the thet nos soensen nin thitor te teater th ron in wor te an nite ant at the the niaditeinn we sis sor th se teetendes to thote narl to th nh tas the se tanl sho sh ne toatote aln ad seutotite wat te toe she teenis toate at thateedot thon\n",
            "sertethe se shate at noner, wat al danlet wor an nhint nh all net nand toes tateer tathe ag went ate and\n",
            "ann,e ther\n",
            "sh tind, ann the shate tho nose ad wos s\n"
          ]
        }
      ],
      "source": [
        "print(sample(net, 1000, prime='Alice', top_k=5))"
      ]
    },
    {
      "cell_type": "markdown",
      "metadata": {
        "id": "9FE93KwP-f-b"
      },
      "source": [
        "## Loading a checkpoint"
      ]
    },
    {
      "cell_type": "code",
      "execution_count": 27,
      "metadata": {
        "colab": {
          "base_uri": "https://localhost:8080/"
        },
        "id": "jjUB_oyL-f-b",
        "outputId": "9d2d8e9d-9ff8-4041-fc4c-13bd3f0b0f4a"
      },
      "outputs": [
        {
          "output_type": "execute_result",
          "data": {
            "text/plain": [
              "<All keys matched successfully>"
            ]
          },
          "metadata": {},
          "execution_count": 27
        }
      ],
      "source": [
        "# Here we have loaded in a model that trained over 20 epochs `rnn_20_epoch.net`\n",
        "with open('rnn_x_epoch.net', 'rb') as f:\n",
        "    checkpoint = torch.load(f)\n",
        "\n",
        "loaded = CharRNN(checkpoint['tokens'], n_hidden=checkpoint['n_hidden'], n_layers=checkpoint['n_layers'])\n",
        "loaded.load_state_dict(checkpoint['state_dict'])"
      ]
    },
    {
      "cell_type": "code",
      "execution_count": 28,
      "metadata": {
        "colab": {
          "base_uri": "https://localhost:8080/"
        },
        "id": "zNkjmXnp-f-c",
        "outputId": "f0411629-fb17-43ca-ffdc-484529a6e009"
      },
      "outputs": [
        {
          "output_type": "stream",
          "name": "stdout",
          "text": [
            "card ate\n",
            "nh toete there thor ag se se net th te teese ageres woaden tis nees net tor ande shot toent shet ald tirt anl ag sise son th sad to th siset th at tas tean shind wh tite ag ther she nhoret nerer nindet at so toe thaas nin teato nat re aln shise sar sonitaat, want tite saad tinter to nhon ad\n",
            "wot adiall\n",
            "sat not wint, tandes tad sathitir sheen netes anl se toudeses\n",
            "ahe set tho nit te wos shist seertetiad ag at wose\n",
            "wore who tas seete ate nh tis tinn with satos te sard at an nar sorinle site tit the\n",
            "a roter sheet te seant ther nhor tanl ag theiwhete tardeser seter nh teos tad tinn wisn, to sot\n",
            "wis tas teer ag altisan te werd sor shart at ald nh ne thit ad tind, ald tan thisint and\n",
            "wathe she ser at ner nor altenn white nodes\n",
            "sis se ag sannet sanl tas tousialtis rent ant not sho tist te at nis rianten at at tas tar nar tad tharn ser woror te sontes theesesetereenet se ide the ter theen thoe det, wo sote sho nerdenl wanse non tistes\n",
            "neus at\n",
            "ne tar ide theetor note thinniag teateutert\n",
            "wis te nhe sarn so tho tite\n",
            "ah th ag tearet thinteset to tho she wit sareet roses at toand she at wannitor warnisor sher nirn tarn ner sho narte dheith rand nodes sit nose tarn ter tor seel age tis tinnes sannenl shiat shitanne ad the satinge soull we to teer aldesh teithe toenedet alt, no d the\n",
            "woat nin to the nann ther ag nher ner teir ig soe tho watitorite teite sheet annen ant anl\n",
            "toederint tat tin she sheenet wite sate ant nhe antingetes ag\n",
            "neen tite nat tadithere sat se to tite\n",
            "nhant\n",
            "tirt warnet tant at\n",
            "te tinl taseeren ag satinn to so to alt,e tiat nont ag th the at so sh so teeres ad ant teed tito nater at sounl were whes,\n",
            "nond\n",
            "tar to tase who nater woro thitath tird\n",
            "worer thiag teet that ann teaat ner anl teint to se titis toenes shet seus sir tad at she nhiter nar ig teiagitoede net ann an nenn\n",
            "th al tate nath tar ilt, nhe tis nh to at sar th nh sot teenet\n",
            "ther sene at toiteen nod the to aldeade nh nh sinn, aldesose noto tath ad,\n",
            "shann ag tinn satinl sor the tann sann teitot to a\n"
          ]
        }
      ],
      "source": [
        "# Sample using a loaded model\n",
        "print(sample(loaded, 2000, top_k=5, prime=\"card\"))"
      ]
    }
  ],
  "metadata": {
    "kernelspec": {
      "display_name": "Python 3 (ipykernel)",
      "language": "python",
      "name": "python3"
    },
    "language_info": {
      "codemirror_mode": {
        "name": "ipython",
        "version": 3
      },
      "file_extension": ".py",
      "mimetype": "text/x-python",
      "name": "python",
      "nbconvert_exporter": "python",
      "pygments_lexer": "ipython3",
      "version": "3.11.5"
    },
    "colab": {
      "provenance": []
    }
  },
  "nbformat": 4,
  "nbformat_minor": 0
}