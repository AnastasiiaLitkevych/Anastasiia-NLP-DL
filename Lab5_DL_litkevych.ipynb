{
  "cells": [
    {
      "cell_type": "markdown",
      "id": "52cd36fa-6a58-4290-bbfb-e63834442ef2",
      "metadata": {
        "id": "52cd36fa-6a58-4290-bbfb-e63834442ef2"
      },
      "source": [
        "## PyTorch modules and layers\n",
        "\n",
        "### What are modules?\n",
        "Module is an abstraction somewhere between neural network *layer* and complete *model*. In PyTorch, there all kinds of things one can do with modules and their combinations.\n",
        "\n",
        "![Multiple layers are combined into modules, forming repeating patterns of larger models.](./img/blocks.svg)"
      ]
    },
    {
      "cell_type": "markdown",
      "id": "3955d842-31f5-4165-99c6-1b0e7b57b74a",
      "metadata": {
        "id": "3955d842-31f5-4165-99c6-1b0e7b57b74a"
      },
      "source": [
        "From a programming standpoint, a module is represented by a class. Any subclass of it must:\n",
        "  - define a forward propagation method that transforms its input into output\n",
        "  - store any necessary parameters."
      ]
    },
    {
      "cell_type": "markdown",
      "id": "21c79362-d815-476e-b74d-ec4807b4ec53",
      "metadata": {
        "id": "21c79362-d815-476e-b74d-ec4807b4ec53"
      },
      "source": [
        "Start with necessary imports:"
      ]
    },
    {
      "cell_type": "code",
      "execution_count": 1,
      "id": "009f256d-2d7f-4792-8dce-0207fea30075",
      "metadata": {
        "id": "009f256d-2d7f-4792-8dce-0207fea30075"
      },
      "outputs": [],
      "source": [
        "import torch\n",
        "from torch import nn\n",
        "from torch.nn import functional as F"
      ]
    },
    {
      "cell_type": "markdown",
      "id": "7094c0d0-18eb-439b-8186-5a28c349ddde",
      "metadata": {
        "id": "7094c0d0-18eb-439b-8186-5a28c349ddde"
      },
      "source": [
        "### Module chaining\n",
        "We can use a built-in `Sequential` function to chain layers together. The below code creates a hidden layer with 256 neurons and ReLU activation function, and an output layer with 10 neurons:"
      ]
    },
    {
      "cell_type": "code",
      "execution_count": 2,
      "id": "7b94a2cc-6661-4bb9-868a-73493fd075c6",
      "metadata": {
        "colab": {
          "base_uri": "https://localhost:8080/"
        },
        "id": "7b94a2cc-6661-4bb9-868a-73493fd075c6",
        "outputId": "37056ab5-37b1-4046-d2d0-cdffa5b52fad"
      },
      "outputs": [
        {
          "output_type": "stream",
          "name": "stderr",
          "text": [
            "/usr/local/lib/python3.10/dist-packages/torch/nn/modules/lazy.py:181: UserWarning: Lazy modules are a new feature under heavy development so changes to the API or functionality can happen at any moment.\n",
            "  warnings.warn('Lazy modules are a new feature under heavy development '\n"
          ]
        },
        {
          "output_type": "execute_result",
          "data": {
            "text/plain": [
              "torch.Size([2, 10])"
            ]
          },
          "metadata": {},
          "execution_count": 2
        }
      ],
      "source": [
        "net = nn.Sequential(nn.LazyLinear(256), nn.ReLU(), nn.LazyLinear(10))\n",
        "\n",
        "X = torch.rand(2, 20)\n",
        "net(X).shape"
      ]
    },
    {
      "cell_type": "markdown",
      "id": "00c38b8d-e353-476a-9c99-3cd4264209a6",
      "metadata": {
        "id": "00c38b8d-e353-476a-9c99-3cd4264209a6"
      },
      "source": [
        "### Forward propagation\n",
        "**Important**: to use the model, we pass it the input data (`net(X)` in the above example). This executes the model's forward, along with some background operations.\n",
        "\n",
        "`net(X)` is actually just shorthand for `net.__call__(X)`. `LazyLinear` is a version of `Linear` that *infers* output dimensions."
      ]
    },
    {
      "cell_type": "code",
      "execution_count": 3,
      "id": "ef08a5c9-9085-4bc0-8d5e-4056ed3e54ed",
      "metadata": {
        "colab": {
          "base_uri": "https://localhost:8080/"
        },
        "id": "ef08a5c9-9085-4bc0-8d5e-4056ed3e54ed",
        "outputId": "f9c01b94-f743-406a-93de-159b8c39bb03"
      },
      "outputs": [
        {
          "output_type": "execute_result",
          "data": {
            "text/plain": [
              "torch.Size([2, 20])"
            ]
          },
          "metadata": {},
          "execution_count": 3
        }
      ],
      "source": [
        "X.shape"
      ]
    },
    {
      "cell_type": "markdown",
      "id": "51ad4a09-414d-4307-b5f8-1d9bfa6440b6",
      "metadata": {
        "id": "51ad4a09-414d-4307-b5f8-1d9bfa6440b6"
      },
      "source": [
        "### Create a module from scratch\n",
        "In the following snippet, we code up a module from scratch corresponding to an MLP with one hidden layer with 256 hidden units, and a 10- dimensional output layer. Note that the MLP class below inherits the class that represents a module. We will heavily rely on the parent class’s methods, supplying only our own constructor (the __init__ method in Python) and the forward propagation method."
      ]
    },
    {
      "cell_type": "code",
      "execution_count": 4,
      "id": "e824413e-ed71-4ed2-912d-5eda53d1ea37",
      "metadata": {
        "id": "e824413e-ed71-4ed2-912d-5eda53d1ea37"
      },
      "outputs": [],
      "source": [
        "class MLP(nn.Module):\n",
        "    def __init__(self):\n",
        "        # Call the constructor of the parent class nn.Module to perform\n",
        "        # the necessary initialization\n",
        "        super().__init__()\n",
        "        self.hidden = nn.LazyLinear(256)\n",
        "        self.out = nn.LazyLinear(10)\n",
        "\n",
        "    # Define the forward propagation of the model, that is, how to return the\n",
        "    # required model output based on the input X\n",
        "    def forward(self, X):\n",
        "        return self.out(F.relu(self.hidden(X)))"
      ]
    },
    {
      "cell_type": "markdown",
      "id": "8845d5d3-4d60-4331-9c80-289bf739274f",
      "metadata": {
        "id": "8845d5d3-4d60-4331-9c80-289bf739274f"
      },
      "source": [
        "Let’s first focus on the forward propagation method. Note that it takes X as input, calculates the hidden representation with the activation function applied, and outputs its logits. In this MLP implementation, both layers are instance variables. To see why this is reasonable, imagine instantiating two MLPs, net1 and net2, and training them on different data. Naturally, we would expect them to represent two different learned models."
      ]
    },
    {
      "cell_type": "code",
      "execution_count": 5,
      "id": "bb4a1e68-72bb-4d1c-9ff7-92ca972e7923",
      "metadata": {
        "colab": {
          "base_uri": "https://localhost:8080/"
        },
        "id": "bb4a1e68-72bb-4d1c-9ff7-92ca972e7923",
        "outputId": "cc4c4156-5d2f-47a1-801b-c3e5abeb5d33"
      },
      "outputs": [
        {
          "output_type": "execute_result",
          "data": {
            "text/plain": [
              "torch.Size([2, 10])"
            ]
          },
          "metadata": {},
          "execution_count": 5
        }
      ],
      "source": [
        "net = MLP()\n",
        "net(X).shape"
      ]
    },
    {
      "cell_type": "markdown",
      "id": "5b6d81a0-2fa9-46e3-8091-cf78b350785b",
      "metadata": {
        "id": "5b6d81a0-2fa9-46e3-8091-cf78b350785b"
      },
      "source": [
        "**So**: a module can abstract layers, complete models, or anything in-between."
      ]
    },
    {
      "cell_type": "markdown",
      "id": "acf303a1-63ef-4c1d-bcdc-ebd8e3aa7306",
      "metadata": {
        "id": "acf303a1-63ef-4c1d-bcdc-ebd8e3aa7306"
      },
      "source": [
        "### Writing your own `Sequential`\n",
        "\n",
        "We need to define two key methods:\n",
        "\n",
        "1. A method for appending modules one by one to a list.\n",
        "2. A forward propagation method for passing an input through the chain of modules, in the same order as they were appended.\n"
      ]
    },
    {
      "cell_type": "code",
      "execution_count": 6,
      "id": "36232efc-63b0-4d6a-a32d-30983e09f7d8",
      "metadata": {
        "id": "36232efc-63b0-4d6a-a32d-30983e09f7d8"
      },
      "outputs": [],
      "source": [
        "class MySequential(nn.Module):\n",
        "    def __init__(self, *args):\n",
        "        super().__init__()\n",
        "        for idx, module in enumerate(args):\n",
        "            self.add_module(str(idx), module)\n",
        "\n",
        "    def forward(self, X):\n",
        "        for module in self.children():\n",
        "            X = module(X)\n",
        "        return X"
      ]
    },
    {
      "cell_type": "markdown",
      "id": "ea71238b-f244-4ea8-8c4d-cca487f69fb1",
      "metadata": {
        "id": "ea71238b-f244-4ea8-8c4d-cca487f69fb1"
      },
      "source": [
        "Note `add_module` and `children` funcs.\n",
        "\n",
        "Now we can use it:"
      ]
    },
    {
      "cell_type": "code",
      "execution_count": 7,
      "id": "e0984f53-1798-450b-97f6-9f053bfa7635",
      "metadata": {
        "colab": {
          "base_uri": "https://localhost:8080/"
        },
        "id": "e0984f53-1798-450b-97f6-9f053bfa7635",
        "outputId": "c58e5e97-6dd2-40a9-930e-f360ccbe8c12"
      },
      "outputs": [
        {
          "output_type": "execute_result",
          "data": {
            "text/plain": [
              "torch.Size([2, 10])"
            ]
          },
          "metadata": {},
          "execution_count": 7
        }
      ],
      "source": [
        "net = MySequential(nn.LazyLinear(256), nn.ReLU(), nn.LazyLinear(10))\n",
        "net(X).shape"
      ]
    },
    {
      "cell_type": "markdown",
      "id": "7594c962-1843-44a5-bb95-d288e09f1c73",
      "metadata": {
        "id": "7594c962-1843-44a5-bb95-d288e09f1c73"
      },
      "source": [
        "### Executing Code in the Forward Propagation Method\n",
        "\n",
        "The `Sequential` class makes model construction easy,\n",
        "allowing us to assemble new architectures\n",
        "without having to define our own class.\n",
        "However, not all architectures are simple daisy chains.\n",
        "When greater flexibility is required,\n",
        "we will want to define our own blocks.\n",
        "For example, we might want to execute\n",
        "Python's control flow within the forward propagation method.\n",
        "Moreover, we might want to perform\n",
        "arbitrary mathematical operations,\n",
        "not simply relying on predefined neural network layers.\n",
        "\n",
        "You may have noticed that until now,\n",
        "all of the operations in our networks\n",
        "have acted upon our network's activations\n",
        "and its parameters.\n",
        "Sometimes, however, we might want to\n",
        "incorporate terms\n",
        "that are neither the result of previous layers\n",
        "nor updatable parameters.\n",
        "We call these *constant parameters*.\n",
        "Say for example that we want a layer\n",
        "that calculates the function\n",
        "$f(\\mathbf{x},\\mathbf{w}) = c \\cdot \\mathbf{w}^\\top \\mathbf{x}$,\n",
        "where $\\mathbf{x}$ is the input, $\\mathbf{w}$ is our parameter,\n",
        "and $c$ is some specified constant\n",
        "that is not updated during optimization.\n",
        "So we implement a `FixedHiddenMLP` class as follows."
      ]
    },
    {
      "cell_type": "code",
      "execution_count": 8,
      "id": "aee35bc6-88e6-4c40-9127-4c66611d441d",
      "metadata": {
        "id": "aee35bc6-88e6-4c40-9127-4c66611d441d"
      },
      "outputs": [],
      "source": [
        "class FixedHiddenMLP(nn.Module):\n",
        "    def __init__(self):\n",
        "        super().__init__()\n",
        "        # Random weight parameters that will not compute gradients and\n",
        "        # therefore keep constant during training\n",
        "        self.rand_weight = torch.rand((20, 20))\n",
        "        self.linear = nn.LazyLinear(20)\n",
        "\n",
        "    def forward(self, X):\n",
        "        X = self.linear(X)\n",
        "        X = F.relu(X @ self.rand_weight + 1)\n",
        "        # Reuse the fully connected layer. This is equivalent to sharing\n",
        "        # parameters with two fully connected layers\n",
        "        X = self.linear(X)\n",
        "        # Control flow\n",
        "        while X.abs().sum() > 1:\n",
        "            X /= 2\n",
        "        return X.sum()"
      ]
    },
    {
      "cell_type": "markdown",
      "id": "5b3d7933-b614-4297-9f3f-38576e35d52a",
      "metadata": {
        "id": "5b3d7933-b614-4297-9f3f-38576e35d52a"
      },
      "source": [
        "In this model,\n",
        "we implement a hidden layer whose weights\n",
        "(`self.rand_weight`) are initialized randomly\n",
        "at instantiation and are thereafter constant.\n",
        "This weight is not a model parameter\n",
        "and thus it is never updated by backpropagation.\n",
        "The network then passes the output of this \"fixed\" layer\n",
        "through a fully connected layer.\n",
        "\n",
        "Note that before returning the output,\n",
        "our model did something unusual.\n",
        "We ran a while-loop, testing\n",
        "on the condition its $\\ell_1$ norm is larger than $1$,\n",
        "and dividing our output vector by $2$\n",
        "until it satisfied the condition.\n",
        "Finally, we returned the sum of the entries in `X`.\n",
        "To our knowledge, no standard neural network\n",
        "performs this operation.\n",
        "Note that this particular operation may not be useful\n",
        "in any real-world task.\n",
        "Our point is only to show you how to integrate\n",
        "arbitrary code into the flow of your\n",
        "neural network computations."
      ]
    },
    {
      "cell_type": "code",
      "execution_count": 9,
      "id": "15c7a145-4a67-4c0d-a1c9-7f7a10783ee9",
      "metadata": {
        "colab": {
          "base_uri": "https://localhost:8080/"
        },
        "id": "15c7a145-4a67-4c0d-a1c9-7f7a10783ee9",
        "outputId": "02e8cf23-eca2-4359-b3d7-738f16ec1975"
      },
      "outputs": [
        {
          "output_type": "execute_result",
          "data": {
            "text/plain": [
              "tensor(0.2276, grad_fn=<SumBackward0>)"
            ]
          },
          "metadata": {},
          "execution_count": 9
        }
      ],
      "source": [
        "net = FixedHiddenMLP()\n",
        "net(X)"
      ]
    },
    {
      "cell_type": "markdown",
      "id": "1718c62f-71a0-4178-b332-24baf27b8866",
      "metadata": {
        "id": "1718c62f-71a0-4178-b332-24baf27b8866"
      },
      "source": [
        "We can mix and match various ways of assembling modules together. In the following example, we nest modules in some creative ways."
      ]
    },
    {
      "cell_type": "code",
      "execution_count": 10,
      "id": "ec0b3fcb-bd1d-47ff-98ee-58ee6d852b95",
      "metadata": {
        "colab": {
          "base_uri": "https://localhost:8080/"
        },
        "id": "ec0b3fcb-bd1d-47ff-98ee-58ee6d852b95",
        "outputId": "301d4d80-94e7-4e25-be39-1ddd30256e3d"
      },
      "outputs": [
        {
          "output_type": "execute_result",
          "data": {
            "text/plain": [
              "tensor(0.1209, grad_fn=<SumBackward0>)"
            ]
          },
          "metadata": {},
          "execution_count": 10
        }
      ],
      "source": [
        "class NestMLP(nn.Module):\n",
        "    def __init__(self):\n",
        "        super().__init__()\n",
        "        self.net = nn.Sequential(nn.LazyLinear(64), nn.ReLU(),\n",
        "                                 nn.LazyLinear(32), nn.ReLU())\n",
        "        self.linear = nn.LazyLinear(16)\n",
        "\n",
        "    def forward(self, X):\n",
        "        return self.linear(self.net(X))\n",
        "\n",
        "chimera = nn.Sequential(NestMLP(), nn.LazyLinear(20), FixedHiddenMLP())\n",
        "chimera(X)"
      ]
    },
    {
      "cell_type": "markdown",
      "id": "94ed6645-5c20-431e-ad47-4f119fad59fa",
      "metadata": {
        "id": "94ed6645-5c20-431e-ad47-4f119fad59fa"
      },
      "source": [
        "### Parameters\n",
        "Once we have chosen an architecture\n",
        "and set our hyperparameters,\n",
        "we proceed to the training loop,\n",
        "where our goal is to find parameter values\n",
        "that minimize our loss function.\n",
        "After training, we will need these parameters\n",
        "in order to make future predictions.\n",
        "Additionally, we will sometimes wish\n",
        "to extract the parameters\n",
        "perhaps to reuse them in some other context,\n",
        "to save our model to disk so that\n",
        "it may be executed in other software,\n",
        "or for examination in the hope of\n",
        "gaining scientific understanding.\n",
        "\n",
        "Most of the time, we will be able\n",
        "to ignore the nitty-gritty details\n",
        "of how parameters are declared\n",
        "and manipulated, relying on deep learning frameworks\n",
        "to do the heavy lifting.\n",
        "However, when we move away from\n",
        "stacked architectures with standard layers,\n",
        "we will sometimes need to get into the weeds\n",
        "of declaring and manipulating parameters.\n",
        "In this section, we cover the following:\n",
        "\n",
        "* Accessing parameters for debugging, diagnostics, and visualizations.\n",
        "* Sharing parameters across different model components.\n",
        "\n",
        "Let's use an MLP with one hidden layer:"
      ]
    },
    {
      "cell_type": "code",
      "execution_count": 11,
      "id": "0fe8a590-2758-4ccf-a9bd-3308117b35a2",
      "metadata": {
        "colab": {
          "base_uri": "https://localhost:8080/"
        },
        "id": "0fe8a590-2758-4ccf-a9bd-3308117b35a2",
        "outputId": "c08e44d1-550c-4583-853c-219c5d4d37d4"
      },
      "outputs": [
        {
          "output_type": "execute_result",
          "data": {
            "text/plain": [
              "torch.Size([2, 1])"
            ]
          },
          "metadata": {},
          "execution_count": 11
        }
      ],
      "source": [
        "net = nn.Sequential(nn.LazyLinear(8),\n",
        "                    nn.ReLU(),\n",
        "                    nn.LazyLinear(1))\n",
        "\n",
        "X = torch.rand(size=(2, 4))\n",
        "net(X).shape"
      ]
    },
    {
      "cell_type": "code",
      "execution_count": 12,
      "id": "8d166a42-7117-470e-9324-fcde37d10ca2",
      "metadata": {
        "colab": {
          "base_uri": "https://localhost:8080/"
        },
        "id": "8d166a42-7117-470e-9324-fcde37d10ca2",
        "outputId": "a1484c80-625c-41dd-e564-5d6a086153e0"
      },
      "outputs": [
        {
          "output_type": "execute_result",
          "data": {
            "text/plain": [
              "tensor([[0.8479, 0.6653, 0.2651, 0.8061],\n",
              "        [0.6264, 0.3460, 0.1119, 0.0668]])"
            ]
          },
          "metadata": {},
          "execution_count": 12
        }
      ],
      "source": [
        "X"
      ]
    },
    {
      "cell_type": "markdown",
      "id": "7b626984-f02f-408d-9ff4-63cde5d51ed6",
      "metadata": {
        "id": "7b626984-f02f-408d-9ff4-63cde5d51ed6"
      },
      "source": [
        "How do we access each layer's parameters? Via indexing."
      ]
    },
    {
      "cell_type": "code",
      "execution_count": 13,
      "id": "7208f765-47b0-4db4-b062-35e09ab42b46",
      "metadata": {
        "colab": {
          "base_uri": "https://localhost:8080/"
        },
        "id": "7208f765-47b0-4db4-b062-35e09ab42b46",
        "outputId": "eb6452af-f746-42f2-d7fc-4a1083d5be3c"
      },
      "outputs": [
        {
          "output_type": "execute_result",
          "data": {
            "text/plain": [
              "OrderedDict([('weight',\n",
              "              tensor([[ 0.0404, -0.0847, -0.4898,  0.0086],\n",
              "                      [ 0.0969,  0.3017,  0.2054, -0.3051],\n",
              "                      [-0.2555, -0.2639,  0.2333, -0.3852],\n",
              "                      [-0.2952,  0.3262,  0.0359, -0.0386],\n",
              "                      [ 0.4202, -0.4372,  0.4973, -0.3984],\n",
              "                      [ 0.0524, -0.1793, -0.1290,  0.1907],\n",
              "                      [ 0.0740, -0.4906, -0.4453,  0.0183],\n",
              "                      [-0.4598,  0.2091, -0.4531,  0.3275]])),\n",
              "             ('bias',\n",
              "              tensor([ 0.1008,  0.3264,  0.4153,  0.1109, -0.3923, -0.2110, -0.0765,  0.2858]))])"
            ]
          },
          "metadata": {},
          "execution_count": 13
        }
      ],
      "source": [
        "net[0].state_dict()"
      ]
    },
    {
      "cell_type": "code",
      "execution_count": 14,
      "id": "18b76f87-fc49-4d6c-adab-e1229742cd2a",
      "metadata": {
        "colab": {
          "base_uri": "https://localhost:8080/"
        },
        "id": "18b76f87-fc49-4d6c-adab-e1229742cd2a",
        "outputId": "8579270a-1a0c-4f7c-f489-af7d93d0f92d"
      },
      "outputs": [
        {
          "output_type": "execute_result",
          "data": {
            "text/plain": [
              "OrderedDict([('weight',\n",
              "              tensor([[-0.0666,  0.3526,  0.0219, -0.2054, -0.0074,  0.2648, -0.1854, -0.3252]])),\n",
              "             ('bias', tensor([0.2268]))])"
            ]
          },
          "metadata": {},
          "execution_count": 14
        }
      ],
      "source": [
        "net[2].state_dict()"
      ]
    },
    {
      "cell_type": "markdown",
      "id": "ecfc73fb-d2bb-4790-bf88-0610ce02bd68",
      "metadata": {
        "id": "ecfc73fb-d2bb-4790-bf88-0610ce02bd68"
      },
      "source": [
        "Note that parameters (weights/bias) are instances of a `torch.nn.parameter.Parameter` class."
      ]
    },
    {
      "cell_type": "code",
      "execution_count": 15,
      "id": "0ce71956-0d70-4d66-b2aa-d646a57a88cf",
      "metadata": {
        "colab": {
          "base_uri": "https://localhost:8080/"
        },
        "id": "0ce71956-0d70-4d66-b2aa-d646a57a88cf",
        "outputId": "1ef1beaf-f6fb-4383-d6e4-5efdb81a0d5d"
      },
      "outputs": [
        {
          "output_type": "execute_result",
          "data": {
            "text/plain": [
              "Parameter containing:\n",
              "tensor([[-0.0666,  0.3526,  0.0219, -0.2054, -0.0074,  0.2648, -0.1854, -0.3252]],\n",
              "       requires_grad=True)"
            ]
          },
          "metadata": {},
          "execution_count": 15
        }
      ],
      "source": [
        "net[2].weight"
      ]
    },
    {
      "cell_type": "markdown",
      "id": "129bbfaf-cf3b-4fdb-836d-89999526a02e",
      "metadata": {
        "id": "129bbfaf-cf3b-4fdb-836d-89999526a02e"
      },
      "source": [
        "We can use `data` field in order to extract actual data:"
      ]
    },
    {
      "cell_type": "code",
      "execution_count": 16,
      "id": "49b5c519-9cbd-489b-9b5e-1058d1bbe075",
      "metadata": {
        "colab": {
          "base_uri": "https://localhost:8080/"
        },
        "id": "49b5c519-9cbd-489b-9b5e-1058d1bbe075",
        "outputId": "179ecd63-db4c-42a5-f075-3ca8e258ff1f"
      },
      "outputs": [
        {
          "output_type": "execute_result",
          "data": {
            "text/plain": [
              "tensor([[-0.0666,  0.3526,  0.0219, -0.2054, -0.0074,  0.2648, -0.1854, -0.3252]])"
            ]
          },
          "metadata": {},
          "execution_count": 16
        }
      ],
      "source": [
        "net[2].weight.data"
      ]
    },
    {
      "cell_type": "code",
      "execution_count": 17,
      "id": "a283ef3f-045b-4043-8154-d975e0150947",
      "metadata": {
        "colab": {
          "base_uri": "https://localhost:8080/"
        },
        "id": "a283ef3f-045b-4043-8154-d975e0150947",
        "outputId": "62f620fc-8afe-47dd-9a29-a870d853b027"
      },
      "outputs": [
        {
          "output_type": "execute_result",
          "data": {
            "text/plain": [
              "torch.Size([1, 8])"
            ]
          },
          "metadata": {},
          "execution_count": 17
        }
      ],
      "source": [
        "net[2].weight.shape"
      ]
    },
    {
      "cell_type": "code",
      "execution_count": 18,
      "id": "fd1d3012-1556-4fe6-9c25-dba619b0062c",
      "metadata": {
        "colab": {
          "base_uri": "https://localhost:8080/"
        },
        "id": "fd1d3012-1556-4fe6-9c25-dba619b0062c",
        "outputId": "602e3b06-3e96-477d-da05-f44562197dca"
      },
      "outputs": [
        {
          "output_type": "execute_result",
          "data": {
            "text/plain": [
              "torch.Size([8, 4])"
            ]
          },
          "metadata": {},
          "execution_count": 18
        }
      ],
      "source": [
        "net[0].weight.shape"
      ]
    },
    {
      "cell_type": "markdown",
      "id": "34a46d7b-ae83-485a-acd3-47865e5db528",
      "metadata": {
        "id": "34a46d7b-ae83-485a-acd3-47865e5db528"
      },
      "source": [
        "We can also access gradients for each layer:"
      ]
    },
    {
      "cell_type": "code",
      "execution_count": 19,
      "id": "92748a77-d83c-4333-982e-88782db78f1d",
      "metadata": {
        "colab": {
          "base_uri": "https://localhost:8080/"
        },
        "id": "92748a77-d83c-4333-982e-88782db78f1d",
        "outputId": "634593b2-e837-4df0-dfc9-c013e27a57e2"
      },
      "outputs": [
        {
          "output_type": "execute_result",
          "data": {
            "text/plain": [
              "True"
            ]
          },
          "metadata": {},
          "execution_count": 19
        }
      ],
      "source": [
        "net[2].weight.grad == None"
      ]
    },
    {
      "cell_type": "markdown",
      "id": "c7586896-42c5-433b-bcdc-fb2d78bb2965",
      "metadata": {
        "id": "c7586896-42c5-433b-bcdc-fb2d78bb2965"
      },
      "source": [
        "We can also access parameters all at once via `nn.Module.named_parameters()`:"
      ]
    },
    {
      "cell_type": "code",
      "execution_count": 20,
      "id": "280ff598-6c7a-4c0f-9991-253e6f62c551",
      "metadata": {
        "colab": {
          "base_uri": "https://localhost:8080/"
        },
        "id": "280ff598-6c7a-4c0f-9991-253e6f62c551",
        "outputId": "5468baf3-ee76-4ab9-bfb2-6da0423a7f53"
      },
      "outputs": [
        {
          "output_type": "execute_result",
          "data": {
            "text/plain": [
              "[('0.weight', torch.Size([8, 4])),\n",
              " ('0.bias', torch.Size([8])),\n",
              " ('2.weight', torch.Size([1, 8])),\n",
              " ('2.bias', torch.Size([1]))]"
            ]
          },
          "metadata": {},
          "execution_count": 20
        }
      ],
      "source": [
        "[(name, param.shape) for name, param in net.named_parameters()]"
      ]
    },
    {
      "cell_type": "markdown",
      "id": "6bb65aae-bfb7-475e-81e5-55029fe3a9b4",
      "metadata": {
        "id": "6bb65aae-bfb7-475e-81e5-55029fe3a9b4"
      },
      "source": [
        "We can also tie or connect/share parameters in different layers.\n",
        "\n",
        "In the following we allocate a fully connected layer\n",
        "and then use its parameters specifically\n",
        "to set those of another layer.\n",
        "Here we need to run the forward propagation\n",
        "`net(X)` before accessing the parameters."
      ]
    },
    {
      "cell_type": "code",
      "execution_count": 21,
      "id": "ef26c0f2-a5a5-4757-afa6-5528ea52030d",
      "metadata": {
        "colab": {
          "base_uri": "https://localhost:8080/"
        },
        "id": "ef26c0f2-a5a5-4757-afa6-5528ea52030d",
        "outputId": "7f41f905-f360-497a-e29a-742e676256e6"
      },
      "outputs": [
        {
          "output_type": "stream",
          "name": "stdout",
          "text": [
            "tensor([True, True, True, True, True, True, True, True])\n",
            "tensor([True, True, True, True, True, True, True, True])\n"
          ]
        }
      ],
      "source": [
        "# We need to give the shared layer a name so that we can refer to its\n",
        "# parameters\n",
        "shared = nn.LazyLinear(8)\n",
        "net = nn.Sequential(nn.LazyLinear(8), nn.ReLU(),\n",
        "                    shared, nn.ReLU(),\n",
        "                    shared, nn.ReLU(),\n",
        "                    nn.LazyLinear(1))\n",
        "\n",
        "net(X)\n",
        "# Check whether the parameters are the same\n",
        "print(net[2].weight.data[0] == net[4].weight.data[0])\n",
        "net[2].weight.data[0, 0] = 100\n",
        "# Make sure that they are actually the same object rather than just having the\n",
        "# same value\n",
        "print(net[2].weight.data[0] == net[4].weight.data[0])"
      ]
    },
    {
      "cell_type": "markdown",
      "id": "95c9c4a0-c91e-4ca5-847c-22a757bf6381",
      "metadata": {
        "id": "95c9c4a0-c91e-4ca5-847c-22a757bf6381"
      },
      "source": [
        "This example shows that the parameters\n",
        "of the second and third layer are tied.\n",
        "They are not just equal, they are\n",
        "represented by the same exact tensor.\n",
        "Thus, if we change one of the parameters,\n",
        "the other one changes, too.\n",
        "\n",
        "You might wonder,\n",
        "when parameters are tied\n",
        "what happens to the gradients?\n",
        "Since the model parameters contain gradients,\n",
        "the gradients of the second hidden layer\n",
        "and the third hidden layer are added together\n",
        "during backpropagation.\n",
        "\n"
      ]
    },
    {
      "cell_type": "markdown",
      "id": "8d8f9c29-3e21-4fff-9d4b-82713730eb59",
      "metadata": {
        "id": "8d8f9c29-3e21-4fff-9d4b-82713730eb59"
      },
      "source": [
        "### Initialization\n",
        "\n",
        "By default, PyTorch initializes weight and bias matrices uniformly by drawing from a range that is computed according to the input and output dimension. PyTorch’s nn.init module provides a variety of preset initialization methods.\n",
        "\n",
        "Let's start with a sample neural network built with `nn.Sequential`."
      ]
    },
    {
      "cell_type": "code",
      "execution_count": 22,
      "id": "be23bc30-95af-46fc-99b3-450030659984",
      "metadata": {
        "colab": {
          "base_uri": "https://localhost:8080/"
        },
        "id": "be23bc30-95af-46fc-99b3-450030659984",
        "outputId": "b89c4387-a67f-4b2b-90d6-c25e2170f09b"
      },
      "outputs": [
        {
          "output_type": "execute_result",
          "data": {
            "text/plain": [
              "torch.Size([2, 1])"
            ]
          },
          "metadata": {},
          "execution_count": 22
        }
      ],
      "source": [
        "net = nn.Sequential(nn.LazyLinear(8), nn.ReLU(), nn.LazyLinear(1))\n",
        "X = torch.rand(size=(2, 4))\n",
        "net(X).shape"
      ]
    },
    {
      "cell_type": "markdown",
      "id": "de35b2f8-8287-432e-a656-817e36062f2b",
      "metadata": {
        "id": "de35b2f8-8287-432e-a656-817e36062f2b"
      },
      "source": [
        "### Built-in initializers\n",
        "\n",
        "This code will initialize weights as Guassian random variables, and biases will be 0. The `apply` method applies the given function recursively to each submodule:"
      ]
    },
    {
      "cell_type": "code",
      "execution_count": 23,
      "id": "5d078f42-0fd6-482c-808f-afea9c995109",
      "metadata": {
        "colab": {
          "base_uri": "https://localhost:8080/"
        },
        "id": "5d078f42-0fd6-482c-808f-afea9c995109",
        "outputId": "3fb6e4a7-2cac-4932-c8bb-4042a6f6946d"
      },
      "outputs": [
        {
          "output_type": "execute_result",
          "data": {
            "text/plain": [
              "(tensor([ 0.0089, -0.0004,  0.0062,  0.0024]), tensor(0.))"
            ]
          },
          "metadata": {},
          "execution_count": 23
        }
      ],
      "source": [
        "def init_normal(module):\n",
        "    if type(module) == nn.Linear:\n",
        "        nn.init.normal_(module.weight, mean=0, std=0.01)\n",
        "        nn.init.zeros_(module.bias)\n",
        "\n",
        "net.apply(init_normal)\n",
        "net[0].weight.data[0], net[0].bias.data[0]"
      ]
    },
    {
      "cell_type": "markdown",
      "id": "cb362fac-dbda-4ab3-bae5-058d7599908e",
      "metadata": {
        "id": "cb362fac-dbda-4ab3-bae5-058d7599908e"
      },
      "source": [
        "Or we can use constants:"
      ]
    },
    {
      "cell_type": "code",
      "execution_count": 24,
      "id": "37a98316-d0ee-4596-95da-a25989dec4e7",
      "metadata": {
        "colab": {
          "base_uri": "https://localhost:8080/"
        },
        "id": "37a98316-d0ee-4596-95da-a25989dec4e7",
        "outputId": "bd4b7405-84c0-4c27-9fd2-f94051d31299"
      },
      "outputs": [
        {
          "output_type": "execute_result",
          "data": {
            "text/plain": [
              "(tensor([1., 1., 1., 1.]), tensor(0.))"
            ]
          },
          "metadata": {},
          "execution_count": 24
        }
      ],
      "source": [
        "def init_constant(module):\n",
        "    if type(module) == nn.Linear:\n",
        "        nn.init.constant_(module.weight, 1)\n",
        "        nn.init.zeros_(module.bias)\n",
        "\n",
        "net.apply(init_constant)\n",
        "net[0].weight.data[0], net[0].bias.data[0]"
      ]
    },
    {
      "cell_type": "markdown",
      "id": "e804dd21-9c49-4195-bca1-71f779d00b02",
      "metadata": {
        "id": "e804dd21-9c49-4195-bca1-71f779d00b02"
      },
      "source": [
        "We can use indexing to initialize parameters for each layer separately:"
      ]
    },
    {
      "cell_type": "code",
      "execution_count": 25,
      "id": "cd6aa9b3-e087-48cb-baae-08c11dbe2fec",
      "metadata": {
        "colab": {
          "base_uri": "https://localhost:8080/"
        },
        "id": "cd6aa9b3-e087-48cb-baae-08c11dbe2fec",
        "outputId": "a0c4c484-29a7-4ac8-b815-d43963eba5b2"
      },
      "outputs": [
        {
          "output_type": "stream",
          "name": "stdout",
          "text": [
            "tensor([0.1477, 0.0740, 0.4413, 0.2584])\n",
            "tensor([[42., 42., 42., 42., 42., 42., 42., 42.]])\n"
          ]
        }
      ],
      "source": [
        "def init_xavier(module):\n",
        "    if type(module) == nn.Linear:\n",
        "        nn.init.xavier_uniform_(module.weight)\n",
        "\n",
        "def init_42(module):\n",
        "    if type(module) == nn.Linear:\n",
        "        nn.init.constant_(module.weight, 42)\n",
        "\n",
        "net[0].apply(init_xavier)\n",
        "net[2].apply(init_42)\n",
        "print(net[0].weight.data[0])\n",
        "print(net[2].weight.data)"
      ]
    },
    {
      "cell_type": "markdown",
      "id": "c7b55dd2-67e4-4551-abc2-aaeb83429bbc",
      "metadata": {
        "id": "c7b55dd2-67e4-4551-abc2-aaeb83429bbc"
      },
      "source": [
        "Sometimes, the initialization methods we need\n",
        "are not provided by the deep learning framework.\n",
        "In the example below, we define an initializer\n",
        "for any weight parameter $w$ using the following strange distribution (here $U$ stands for uniform distribution):\n",
        "\n",
        "$$\n",
        "\\begin{aligned}\n",
        "    w \\sim \\begin{cases}\n",
        "        U(5, 10) & \\textrm{ with probability } \\frac{1}{4} \\\\\n",
        "            0    & \\textrm{ with probability } \\frac{1}{2} \\\\\n",
        "        U(-10, -5) & \\textrm{ with probability } \\frac{1}{4}\n",
        "    \\end{cases}\n",
        "\\end{aligned}\n",
        "$$\n"
      ]
    },
    {
      "cell_type": "code",
      "execution_count": 26,
      "id": "24cd78f1-0179-4cca-a203-18b9d987030b",
      "metadata": {
        "colab": {
          "base_uri": "https://localhost:8080/"
        },
        "id": "24cd78f1-0179-4cca-a203-18b9d987030b",
        "outputId": "1185c409-84e8-4cfc-8551-973050e5299d"
      },
      "outputs": [
        {
          "output_type": "stream",
          "name": "stdout",
          "text": [
            "Init weight torch.Size([8, 4])\n",
            "Init weight torch.Size([1, 8])\n"
          ]
        },
        {
          "output_type": "execute_result",
          "data": {
            "text/plain": [
              "tensor([[-0.0000, -9.6359,  8.1797,  5.5955],\n",
              "        [ 5.6840,  8.1286, -7.2166, -8.9670]], grad_fn=<SliceBackward0>)"
            ]
          },
          "metadata": {},
          "execution_count": 26
        }
      ],
      "source": [
        "def my_init(module):\n",
        "    if type(module) == nn.Linear:\n",
        "        print(\"Init\", *[(name, param.shape)\n",
        "                        for name, param in module.named_parameters()][0])\n",
        "        nn.init.uniform_(module.weight, -10, 10)\n",
        "        module.weight.data *= module.weight.data.abs() >= 5\n",
        "\n",
        "net.apply(my_init)\n",
        "net[0].weight[:2]"
      ]
    },
    {
      "cell_type": "markdown",
      "id": "68eefa29-b8fd-4aeb-a259-8f87cac43d1f",
      "metadata": {
        "id": "68eefa29-b8fd-4aeb-a259-8f87cac43d1f"
      },
      "source": [
        "And, of course, we can always set the parameters directly:"
      ]
    },
    {
      "cell_type": "code",
      "execution_count": 27,
      "id": "02fee178-4573-4422-aceb-863763988b94",
      "metadata": {
        "colab": {
          "base_uri": "https://localhost:8080/"
        },
        "id": "02fee178-4573-4422-aceb-863763988b94",
        "outputId": "225b0d43-13f5-4dd2-e890-901139955dde"
      },
      "outputs": [
        {
          "output_type": "execute_result",
          "data": {
            "text/plain": [
              "tensor([42.0000, -8.6359,  9.1797,  6.5955])"
            ]
          },
          "metadata": {},
          "execution_count": 27
        }
      ],
      "source": [
        "net[0].weight.data[:] += 1\n",
        "net[0].weight.data[0, 0] = 42\n",
        "net[0].weight.data[0]"
      ]
    },
    {
      "cell_type": "markdown",
      "id": "cbe3f9b2-0ec4-4555-827a-1506b7c37097",
      "metadata": {
        "id": "cbe3f9b2-0ec4-4555-827a-1506b7c37097"
      },
      "source": [
        "Or in model class constructor:"
      ]
    },
    {
      "cell_type": "code",
      "execution_count": 28,
      "id": "7aeb3be9-5835-4870-8df1-2def58908c86",
      "metadata": {
        "id": "7aeb3be9-5835-4870-8df1-2def58908c86"
      },
      "outputs": [],
      "source": [
        "class LinearRegressionModel(nn.Module):\n",
        "    def __init__(self):\n",
        "        super().__init__()\n",
        "        self.weights = nn.Parameter(torch.randn(1, # <- start with random weights (this will get adjusted as the model learns)\n",
        "                                                dtype=torch.float), # <- PyTorch loves float32 by default\n",
        "                                   requires_grad=True) # <- can we update this value with gradient descent?)\n",
        "\n",
        "        self.bias = nn.Parameter(torch.randn(1, # <- start with random bias (this will get adjusted as the model learns)\n",
        "                                            dtype=torch.float), # <- PyTorch loves float32 by default\n",
        "                                requires_grad=True) # <- can we update this value with gradient descent?))\n",
        "\n",
        "    # Forward defines the computation in the model\n",
        "    def forward(self, x: torch.Tensor) -> torch.Tensor: # <- \"x\" is the input data (e.g. training/testing features)\n",
        "        return self.weights * x + self.bias # <- this is the linear regression formula (y = m*x + b)"
      ]
    },
    {
      "cell_type": "markdown",
      "id": "769aa889-d479-4051-8795-a3ad95511b72",
      "metadata": {
        "id": "769aa889-d479-4051-8795-a3ad95511b72"
      },
      "source": [
        "### Lazy initialization\n",
        "\n",
        "PyTorch can defer parameter initialization, waiting until the first time we pass data through the model, to infer the sizes of each layer on the fly.\n",
        "\n",
        "Later on, when working with convolutional neural networks, this technique will become even more convenient since the input dimensionality (e.g., the resolution of an image) will affect the dimensionality of each subsequent layer.\n",
        "\n",
        "Let's create some perceptron again:"
      ]
    },
    {
      "cell_type": "code",
      "execution_count": 29,
      "id": "ea1b347b-a7e5-4b6f-af39-9d522904f27c",
      "metadata": {
        "id": "ea1b347b-a7e5-4b6f-af39-9d522904f27c"
      },
      "outputs": [],
      "source": [
        "net = nn.Sequential(nn.LazyLinear(256), nn.ReLU(), nn.LazyLinear(10))"
      ]
    },
    {
      "cell_type": "markdown",
      "id": "ab6ab599-6d9e-458e-9572-0c49362e606f",
      "metadata": {
        "id": "ab6ab599-6d9e-458e-9572-0c49362e606f"
      },
      "source": [
        "Check first layer params:"
      ]
    },
    {
      "cell_type": "code",
      "execution_count": 30,
      "id": "a448bcc7-5759-433d-a365-cb209934583e",
      "metadata": {
        "colab": {
          "base_uri": "https://localhost:8080/"
        },
        "id": "a448bcc7-5759-433d-a365-cb209934583e",
        "outputId": "d8ad85b1-ca34-4341-9a4c-1d29a0b389f8"
      },
      "outputs": [
        {
          "output_type": "execute_result",
          "data": {
            "text/plain": [
              "<UninitializedParameter>"
            ]
          },
          "metadata": {},
          "execution_count": 30
        }
      ],
      "source": [
        "net[0].weight"
      ]
    },
    {
      "cell_type": "markdown",
      "id": "f7b5d88e-fad4-42e7-8a4e-c89d0b736e62",
      "metadata": {
        "id": "f7b5d88e-fad4-42e7-8a4e-c89d0b736e62"
      },
      "source": [
        "We can pass some data:"
      ]
    },
    {
      "cell_type": "code",
      "execution_count": 31,
      "id": "d42255e9-35f3-4e51-95d0-42a53d1c10f2",
      "metadata": {
        "colab": {
          "base_uri": "https://localhost:8080/"
        },
        "id": "d42255e9-35f3-4e51-95d0-42a53d1c10f2",
        "outputId": "71f152b3-ee81-4e96-fb03-ca16889e47aa"
      },
      "outputs": [
        {
          "output_type": "execute_result",
          "data": {
            "text/plain": [
              "torch.Size([256, 20])"
            ]
          },
          "metadata": {},
          "execution_count": 31
        }
      ],
      "source": [
        "X = torch.rand(2, 20)\n",
        "net(X)\n",
        "\n",
        "net[0].weight.shape"
      ]
    },
    {
      "cell_type": "markdown",
      "id": "6f6da710-892e-470b-88fc-42e96f5a8a3a",
      "metadata": {
        "id": "6f6da710-892e-470b-88fc-42e96f5a8a3a"
      },
      "source": [
        "### Custom layers"
      ]
    },
    {
      "cell_type": "markdown",
      "id": "2931d155-3ead-4870-afe7-4c34e566ca43",
      "metadata": {
        "id": "2931d155-3ead-4870-afe7-4c34e566ca43"
      },
      "source": [
        "Let's first try a layer without parameters:"
      ]
    },
    {
      "cell_type": "code",
      "execution_count": 32,
      "id": "54fb24d6-05dc-4d9b-884f-80cd6988f0b1",
      "metadata": {
        "id": "54fb24d6-05dc-4d9b-884f-80cd6988f0b1"
      },
      "outputs": [],
      "source": [
        "class CenteredLayer(nn.Module):\n",
        "    def __init__(self):\n",
        "        super().__init__()\n",
        "\n",
        "    def forward(self, X):\n",
        "        return X - X.mean()"
      ]
    },
    {
      "cell_type": "markdown",
      "id": "16c74142-9ebe-42b9-973a-1f3826f32987",
      "metadata": {
        "id": "16c74142-9ebe-42b9-973a-1f3826f32987"
      },
      "source": [
        "Let's see if it works:"
      ]
    },
    {
      "cell_type": "code",
      "execution_count": 33,
      "id": "95c96fe2-d4b3-47d3-aff1-25dbb35df111",
      "metadata": {
        "colab": {
          "base_uri": "https://localhost:8080/"
        },
        "id": "95c96fe2-d4b3-47d3-aff1-25dbb35df111",
        "outputId": "e27ca26a-1634-400b-82c3-07ff908e1635"
      },
      "outputs": [
        {
          "output_type": "execute_result",
          "data": {
            "text/plain": [
              "tensor([-2., -1.,  0.,  1.,  2.])"
            ]
          },
          "metadata": {},
          "execution_count": 33
        }
      ],
      "source": [
        "layer = CenteredLayer()\n",
        "layer(torch.tensor([1.0, 2, 3, 4, 5]))"
      ]
    },
    {
      "cell_type": "markdown",
      "id": "2890d991-407c-4e69-b58f-2487606330ff",
      "metadata": {
        "id": "2890d991-407c-4e69-b58f-2487606330ff"
      },
      "source": [
        "We can use it in some models now:"
      ]
    },
    {
      "cell_type": "code",
      "execution_count": 34,
      "id": "0b1a5704-127c-4cc5-ae4c-c6801c7fc8da",
      "metadata": {
        "id": "0b1a5704-127c-4cc5-ae4c-c6801c7fc8da"
      },
      "outputs": [],
      "source": [
        "net = nn.Sequential(nn.LazyLinear(128), CenteredLayer())"
      ]
    },
    {
      "cell_type": "markdown",
      "id": "a58e5a25-30ce-41d8-b099-49758ddc829c",
      "metadata": {
        "id": "a58e5a25-30ce-41d8-b099-49758ddc829c"
      },
      "source": [
        "Check how it works:"
      ]
    },
    {
      "cell_type": "code",
      "execution_count": 35,
      "id": "318398b4-6dec-4b34-addc-cb3d662e032d",
      "metadata": {
        "colab": {
          "base_uri": "https://localhost:8080/"
        },
        "id": "318398b4-6dec-4b34-addc-cb3d662e032d",
        "outputId": "ef082d13-a707-49ea-f57d-76320d267ab0"
      },
      "outputs": [
        {
          "output_type": "execute_result",
          "data": {
            "text/plain": [
              "tensor(-6.0536e-09, grad_fn=<MeanBackward0>)"
            ]
          },
          "metadata": {},
          "execution_count": 35
        }
      ],
      "source": [
        "Y = net(torch.rand(4, 8))\n",
        "Y.mean()"
      ]
    },
    {
      "cell_type": "markdown",
      "id": "cd5b29d8-e64d-465d-9dcc-2203d562b5da",
      "metadata": {
        "id": "cd5b29d8-e64d-465d-9dcc-2203d562b5da"
      },
      "source": [
        "The very small number instead of 0 is due to floating point number arithmetic."
      ]
    },
    {
      "cell_type": "markdown",
      "id": "3e5441bd-1d00-433c-a752-86a239d9decb",
      "metadata": {
        "id": "3e5441bd-1d00-433c-a752-86a239d9decb"
      },
      "source": [
        "Let's now create a custom layer with parameters: `in_units` and `out_units` for inputs and outputs counts."
      ]
    },
    {
      "cell_type": "code",
      "execution_count": 36,
      "id": "2955e5f8-ceac-4371-b204-33d9047005de",
      "metadata": {
        "id": "2955e5f8-ceac-4371-b204-33d9047005de"
      },
      "outputs": [],
      "source": [
        "class MyLinear(nn.Module):\n",
        "    def __init__(self, in_units, out_units):\n",
        "        super().__init__()\n",
        "        self.weight = nn.Parameter(torch.randn(in_units, out_units))\n",
        "        self.bias = nn.Parameter(torch.randn(out_units,))\n",
        "\n",
        "    def forward(self, X):\n",
        "        linear = torch.matmul(X, self.weight.data) + self.bias.data\n",
        "        return F.relu(linear)"
      ]
    },
    {
      "cell_type": "markdown",
      "id": "b240c690-1be7-4939-a39a-49fd31057b76",
      "metadata": {
        "id": "b240c690-1be7-4939-a39a-49fd31057b76"
      },
      "source": [
        "We can instantiate it and check parameters:"
      ]
    },
    {
      "cell_type": "code",
      "execution_count": 37,
      "id": "5a2ae7a4-af2b-40b6-8673-901c68189221",
      "metadata": {
        "colab": {
          "base_uri": "https://localhost:8080/"
        },
        "id": "5a2ae7a4-af2b-40b6-8673-901c68189221",
        "outputId": "6f9fcaab-0c8a-41b1-ce24-b2effe705274"
      },
      "outputs": [
        {
          "output_type": "execute_result",
          "data": {
            "text/plain": [
              "Parameter containing:\n",
              "tensor([[ 0.5553,  0.8819, -1.5962],\n",
              "        [ 2.3501,  0.5013,  0.9097],\n",
              "        [ 0.5300, -2.5027,  1.2912],\n",
              "        [-0.3778, -1.0685,  1.7333],\n",
              "        [-0.4495, -0.7213, -0.5693]], requires_grad=True)"
            ]
          },
          "metadata": {},
          "execution_count": 37
        }
      ],
      "source": [
        "linear = MyLinear(5, 3)\n",
        "linear.weight"
      ]
    },
    {
      "cell_type": "markdown",
      "id": "acaa9171-eb11-498e-b185-ef37191fc93d",
      "metadata": {
        "id": "acaa9171-eb11-498e-b185-ef37191fc93d"
      },
      "source": [
        "Now invoke forward propagation using our custom layer:"
      ]
    },
    {
      "cell_type": "code",
      "execution_count": 39,
      "id": "00f22d25-47ab-47b7-bec7-290a985b2120",
      "metadata": {
        "colab": {
          "base_uri": "https://localhost:8080/"
        },
        "id": "00f22d25-47ab-47b7-bec7-290a985b2120",
        "outputId": "3faaad1c-3a4e-401c-fffc-6a9ed274b818"
      },
      "outputs": [
        {
          "output_type": "execute_result",
          "data": {
            "text/plain": [
              "tensor([[0.4309, 0.0348, 0.0000],\n",
              "        [0.2349, 0.0000, 1.1232]])"
            ]
          },
          "metadata": {},
          "execution_count": 39
        }
      ],
      "source": [
        "linear(torch.rand(2, 5))"
      ]
    },
    {
      "cell_type": "markdown",
      "id": "23fa6e5a-f5a1-407b-b0c3-3f53277b2859",
      "metadata": {
        "id": "23fa6e5a-f5a1-407b-b0c3-3f53277b2859"
      },
      "source": [
        "Now we can construct a model using the custom layer:"
      ]
    },
    {
      "cell_type": "code",
      "execution_count": 40,
      "id": "9fa22724-744d-402e-b5fb-964c62863789",
      "metadata": {
        "colab": {
          "base_uri": "https://localhost:8080/"
        },
        "id": "9fa22724-744d-402e-b5fb-964c62863789",
        "outputId": "721391ff-0ac8-4daf-ea32-b3c535917323"
      },
      "outputs": [
        {
          "output_type": "execute_result",
          "data": {
            "text/plain": [
              "tensor([[17.2263],\n",
              "        [ 9.9957]])"
            ]
          },
          "metadata": {},
          "execution_count": 40
        }
      ],
      "source": [
        "net = nn.Sequential(MyLinear(64, 8), MyLinear(8, 1))\n",
        "net(torch.rand(2, 64))"
      ]
    },
    {
      "cell_type": "markdown",
      "id": "50f2b8b0-5cca-4247-90fb-b4da40614cd5",
      "metadata": {
        "id": "50f2b8b0-5cca-4247-90fb-b4da40614cd5"
      },
      "source": [
        "### Loading and saving\n",
        "\n",
        "Save a single tensor:"
      ]
    },
    {
      "cell_type": "code",
      "execution_count": 41,
      "id": "40756f8d-ceba-4f85-aa06-b34d54a8e3ce",
      "metadata": {
        "colab": {
          "base_uri": "https://localhost:8080/"
        },
        "id": "40756f8d-ceba-4f85-aa06-b34d54a8e3ce",
        "outputId": "9a3f4b7d-3f64-45a9-9df7-91ea7400681e"
      },
      "outputs": [
        {
          "output_type": "execute_result",
          "data": {
            "text/plain": [
              "tensor([0, 1, 2, 3])"
            ]
          },
          "metadata": {},
          "execution_count": 41
        }
      ],
      "source": [
        "x = torch.arange(4)\n",
        "torch.save(x, 'torch.data')\n",
        "x"
      ]
    },
    {
      "cell_type": "markdown",
      "id": "ab1bdbde-7de6-4254-bd3e-edd59b332b66",
      "metadata": {
        "id": "ab1bdbde-7de6-4254-bd3e-edd59b332b66"
      },
      "source": [
        "Now read it back:"
      ]
    },
    {
      "cell_type": "code",
      "execution_count": 42,
      "id": "ceb30ed0-c269-4841-b38b-35f67dbc9ed4",
      "metadata": {
        "colab": {
          "base_uri": "https://localhost:8080/"
        },
        "id": "ceb30ed0-c269-4841-b38b-35f67dbc9ed4",
        "outputId": "5afbc9db-e803-44d4-ea79-45167fade0d5"
      },
      "outputs": [
        {
          "output_type": "execute_result",
          "data": {
            "text/plain": [
              "tensor([0, 1, 2, 3])"
            ]
          },
          "metadata": {},
          "execution_count": 42
        }
      ],
      "source": [
        "x2 = torch.load('torch.data')\n",
        "x2"
      ]
    },
    {
      "cell_type": "markdown",
      "id": "434bce76-513c-41cd-9bbd-0de789817f09",
      "metadata": {
        "id": "434bce76-513c-41cd-9bbd-0de789817f09"
      },
      "source": [
        "Same can be done with lists of tensors:"
      ]
    },
    {
      "cell_type": "code",
      "execution_count": 43,
      "id": "aac3fe5c-fea1-43a4-b89c-999b413b3425",
      "metadata": {
        "colab": {
          "base_uri": "https://localhost:8080/"
        },
        "id": "aac3fe5c-fea1-43a4-b89c-999b413b3425",
        "outputId": "185730d7-c145-4a5f-e5b9-d2aeda33d0cd"
      },
      "outputs": [
        {
          "output_type": "execute_result",
          "data": {
            "text/plain": [
              "(tensor([0, 1, 2, 3]), tensor([0., 0., 0., 0.]))"
            ]
          },
          "metadata": {},
          "execution_count": 43
        }
      ],
      "source": [
        "y = torch.zeros(4)\n",
        "torch.save([x, y],'torch2.data')\n",
        "x2, y2 = torch.load('torch2.data')\n",
        "(x2, y2)"
      ]
    },
    {
      "cell_type": "markdown",
      "id": "fe8175d2-d2f3-4604-9e03-c7a9beb04ef8",
      "metadata": {
        "id": "fe8175d2-d2f3-4604-9e03-c7a9beb04ef8"
      },
      "source": [
        "Saving dictionaries of tensors also works:"
      ]
    },
    {
      "cell_type": "code",
      "execution_count": 44,
      "id": "af7adfb6-5175-41d3-a5e4-27afb905a139",
      "metadata": {
        "colab": {
          "base_uri": "https://localhost:8080/"
        },
        "id": "af7adfb6-5175-41d3-a5e4-27afb905a139",
        "outputId": "81d4f637-8f0f-4d31-e677-4462ed802c54"
      },
      "outputs": [
        {
          "output_type": "execute_result",
          "data": {
            "text/plain": [
              "{'x': tensor([0, 1, 2, 3]), 'y': tensor([0., 0., 0., 0.])}"
            ]
          },
          "metadata": {},
          "execution_count": 44
        }
      ],
      "source": [
        "\n",
        "mydict = {'x': x, 'y': y}\n",
        "torch.save(mydict, 'torch_dict.data')\n",
        "mydict2 = torch.load('torch_dict.data')\n",
        "mydict2"
      ]
    },
    {
      "cell_type": "markdown",
      "id": "e4c72a14-beb9-4f73-94da-c7427d5b5e5d",
      "metadata": {
        "id": "e4c72a14-beb9-4f73-94da-c7427d5b5e5d"
      },
      "source": [
        "How does this work for complete models? Let's check it, using the example model for multi-layer perceptron."
      ]
    },
    {
      "cell_type": "code",
      "execution_count": 45,
      "id": "9e7fe20f-c33d-4506-93d3-72104c73a2dc",
      "metadata": {
        "id": "9e7fe20f-c33d-4506-93d3-72104c73a2dc"
      },
      "outputs": [],
      "source": [
        "class MLP(nn.Module):\n",
        "    def __init__(self):\n",
        "        super().__init__()\n",
        "        self.hidden = nn.LazyLinear(256)\n",
        "        self.output = nn.LazyLinear(10)\n",
        "\n",
        "    def forward(self, x):\n",
        "        return self.output(F.relu(self.hidden(x)))\n",
        "\n",
        "net = MLP()\n",
        "X = torch.randn(size=(2, 20))\n",
        "Y = net(X)"
      ]
    },
    {
      "cell_type": "markdown",
      "id": "75347af6-8ffb-4020-b46f-b9a657267d47",
      "metadata": {
        "id": "75347af6-8ffb-4020-b46f-b9a657267d47"
      },
      "source": [
        "We can save the parameters of that model with:"
      ]
    },
    {
      "cell_type": "code",
      "execution_count": 46,
      "id": "28e4f792-56f6-4d25-952a-9576322f37f3",
      "metadata": {
        "id": "28e4f792-56f6-4d25-952a-9576322f37f3"
      },
      "outputs": [],
      "source": [
        "torch.save(net.state_dict(), 'mlp.params')"
      ]
    },
    {
      "cell_type": "markdown",
      "id": "6ce711cb-a97d-4f48-90b8-697761281a1a",
      "metadata": {
        "id": "6ce711cb-a97d-4f48-90b8-697761281a1a"
      },
      "source": [
        "In order to load the model, we can do this:"
      ]
    },
    {
      "cell_type": "code",
      "execution_count": 47,
      "id": "69336b4e-99e7-438c-94f2-b4d7e03eb67a",
      "metadata": {
        "colab": {
          "base_uri": "https://localhost:8080/"
        },
        "id": "69336b4e-99e7-438c-94f2-b4d7e03eb67a",
        "outputId": "54446d58-cd52-4eaa-b7ec-60ebe4a365a2"
      },
      "outputs": [
        {
          "output_type": "execute_result",
          "data": {
            "text/plain": [
              "MLP(\n",
              "  (hidden): LazyLinear(in_features=0, out_features=256, bias=True)\n",
              "  (output): LazyLinear(in_features=0, out_features=10, bias=True)\n",
              ")"
            ]
          },
          "metadata": {},
          "execution_count": 47
        }
      ],
      "source": [
        "clone = MLP()\n",
        "clone.load_state_dict(torch.load('mlp.params'))\n",
        "clone.eval()"
      ]
    },
    {
      "cell_type": "markdown",
      "id": "9fbfa7f5-830c-4258-b700-a73f4e5d62db",
      "metadata": {
        "id": "9fbfa7f5-830c-4258-b700-a73f4e5d62db"
      },
      "source": [
        "Let's verify that original model and cloned model produce same results:"
      ]
    },
    {
      "cell_type": "code",
      "execution_count": 48,
      "id": "9cf82b70-e5e0-41bd-a2b3-0773953c2188",
      "metadata": {
        "colab": {
          "base_uri": "https://localhost:8080/"
        },
        "id": "9cf82b70-e5e0-41bd-a2b3-0773953c2188",
        "outputId": "963394ba-ffdb-4f65-b9eb-51d66287eb01"
      },
      "outputs": [
        {
          "output_type": "execute_result",
          "data": {
            "text/plain": [
              "tensor([[True, True, True, True, True, True, True, True, True, True],\n",
              "        [True, True, True, True, True, True, True, True, True, True]])"
            ]
          },
          "metadata": {},
          "execution_count": 48
        }
      ],
      "source": [
        "Y_clone = clone(X)\n",
        "Y_clone == Y"
      ]
    },
    {
      "cell_type": "markdown",
      "id": "099bea2b-71f0-4800-9781-44c8e26c6dfb",
      "metadata": {
        "id": "099bea2b-71f0-4800-9781-44c8e26c6dfb"
      },
      "source": [
        "## Walkthrough with TorchVision dataset\n",
        "\n",
        "### Fetching data\n",
        "Let's fetch some sample dataset:"
      ]
    },
    {
      "cell_type": "code",
      "execution_count": 49,
      "id": "a4b5e687-2000-4ce8-bf0d-4f44f4dbc2a2",
      "metadata": {
        "id": "a4b5e687-2000-4ce8-bf0d-4f44f4dbc2a2"
      },
      "outputs": [],
      "source": [
        "from torch.utils.data import DataLoader\n",
        "from torchvision import datasets\n",
        "from torchvision.transforms import ToTensor"
      ]
    },
    {
      "cell_type": "markdown",
      "id": "de9588f7-92ee-459a-bf00-aec8547ecb22",
      "metadata": {
        "id": "de9588f7-92ee-459a-bf00-aec8547ecb22"
      },
      "source": [
        "PyTorch offers domain-specific libraries such as TorchText, TorchVision, and TorchAudio, all of which include datasets. For this tutorial, we will be using a TorchVision dataset.\n",
        "\n",
        "The torchvision.datasets module contains Dataset objects for many real-world vision data like CIFAR, COCO (full list here). We will use the FashionMNIST dataset. Every TorchVision Dataset includes two arguments: transform and target_transform to modify the samples and labels respectively."
      ]
    },
    {
      "cell_type": "code",
      "execution_count": 50,
      "id": "83967f42-c8d9-41b3-88c6-49b872a0989b",
      "metadata": {
        "colab": {
          "base_uri": "https://localhost:8080/"
        },
        "id": "83967f42-c8d9-41b3-88c6-49b872a0989b",
        "outputId": "28a94ba2-b619-49fc-c78a-bead45e9ac4e"
      },
      "outputs": [
        {
          "output_type": "stream",
          "name": "stdout",
          "text": [
            "Downloading http://fashion-mnist.s3-website.eu-central-1.amazonaws.com/train-images-idx3-ubyte.gz\n",
            "Downloading http://fashion-mnist.s3-website.eu-central-1.amazonaws.com/train-images-idx3-ubyte.gz to data/FashionMNIST/raw/train-images-idx3-ubyte.gz\n"
          ]
        },
        {
          "output_type": "stream",
          "name": "stderr",
          "text": [
            "100%|██████████| 26421880/26421880 [00:06<00:00, 4250629.19it/s] \n"
          ]
        },
        {
          "output_type": "stream",
          "name": "stdout",
          "text": [
            "Extracting data/FashionMNIST/raw/train-images-idx3-ubyte.gz to data/FashionMNIST/raw\n",
            "\n",
            "Downloading http://fashion-mnist.s3-website.eu-central-1.amazonaws.com/train-labels-idx1-ubyte.gz\n",
            "Downloading http://fashion-mnist.s3-website.eu-central-1.amazonaws.com/train-labels-idx1-ubyte.gz to data/FashionMNIST/raw/train-labels-idx1-ubyte.gz\n"
          ]
        },
        {
          "output_type": "stream",
          "name": "stderr",
          "text": [
            "100%|██████████| 29515/29515 [00:00<00:00, 298633.38it/s]\n"
          ]
        },
        {
          "output_type": "stream",
          "name": "stdout",
          "text": [
            "Extracting data/FashionMNIST/raw/train-labels-idx1-ubyte.gz to data/FashionMNIST/raw\n",
            "\n",
            "Downloading http://fashion-mnist.s3-website.eu-central-1.amazonaws.com/t10k-images-idx3-ubyte.gz\n",
            "Downloading http://fashion-mnist.s3-website.eu-central-1.amazonaws.com/t10k-images-idx3-ubyte.gz to data/FashionMNIST/raw/t10k-images-idx3-ubyte.gz\n"
          ]
        },
        {
          "output_type": "stream",
          "name": "stderr",
          "text": [
            "100%|██████████| 4422102/4422102 [00:00<00:00, 5406234.81it/s]\n"
          ]
        },
        {
          "output_type": "stream",
          "name": "stdout",
          "text": [
            "Extracting data/FashionMNIST/raw/t10k-images-idx3-ubyte.gz to data/FashionMNIST/raw\n",
            "\n",
            "Downloading http://fashion-mnist.s3-website.eu-central-1.amazonaws.com/t10k-labels-idx1-ubyte.gz\n",
            "Downloading http://fashion-mnist.s3-website.eu-central-1.amazonaws.com/t10k-labels-idx1-ubyte.gz to data/FashionMNIST/raw/t10k-labels-idx1-ubyte.gz\n"
          ]
        },
        {
          "output_type": "stream",
          "name": "stderr",
          "text": [
            "100%|██████████| 5148/5148 [00:00<00:00, 9023099.45it/s]"
          ]
        },
        {
          "output_type": "stream",
          "name": "stdout",
          "text": [
            "Extracting data/FashionMNIST/raw/t10k-labels-idx1-ubyte.gz to data/FashionMNIST/raw\n",
            "\n"
          ]
        },
        {
          "output_type": "stream",
          "name": "stderr",
          "text": [
            "\n"
          ]
        }
      ],
      "source": [
        "# Download training data from open datasets.\n",
        "training_data = datasets.FashionMNIST(\n",
        "    root=\"data\",\n",
        "    train=True,\n",
        "    download=True,\n",
        "    transform=ToTensor(),\n",
        ")\n",
        "\n",
        "# Download test data from open datasets.\n",
        "test_data = datasets.FashionMNIST(\n",
        "    root=\"data\",\n",
        "    train=False,\n",
        "    download=True,\n",
        "    transform=ToTensor(),\n",
        ")"
      ]
    },
    {
      "cell_type": "markdown",
      "id": "c2d4ba6f-e072-4f65-93e3-deb0f888e3c7",
      "metadata": {
        "id": "c2d4ba6f-e072-4f65-93e3-deb0f888e3c7"
      },
      "source": [
        "We pass the `Dataset` as an argument to `DataLoader`. This wraps an iterable over our dataset, and supports automatic batching, sampling, shuffling and multiprocess data loading. Here we define a batch size of 64, i.e. each element in the dataloader iterable will return a batch of 64 features and labels."
      ]
    },
    {
      "cell_type": "code",
      "execution_count": 52,
      "id": "597c3fef-7209-4c6c-8bb6-557c63955fb2",
      "metadata": {
        "colab": {
          "base_uri": "https://localhost:8080/"
        },
        "id": "597c3fef-7209-4c6c-8bb6-557c63955fb2",
        "outputId": "be0dcc8f-4108-4655-b9fa-5abc3ed890c2"
      },
      "outputs": [
        {
          "output_type": "stream",
          "name": "stdout",
          "text": [
            "Shape of X [N, C, H, W]: torch.Size([64, 1, 28, 28])\n",
            "Shape of y: torch.Size([64]) torch.int64\n"
          ]
        }
      ],
      "source": [
        "batch_size = 64\n",
        "\n",
        "# Create data loaders.\n",
        "train_dataloader = DataLoader(training_data, batch_size=batch_size)\n",
        "test_dataloader = DataLoader(test_data, batch_size=batch_size)\n",
        "\n",
        "for X, y in test_dataloader:\n",
        "    print(f\"Shape of X [N, C, H, W]: {X.shape}\")\n",
        "    print(f\"Shape of y: {y.shape} {y.dtype}\")\n",
        "    break"
      ]
    },
    {
      "cell_type": "markdown",
      "id": "8861a472-71dd-4bbe-9b0c-d2df1905f1d8",
      "metadata": {
        "id": "8861a472-71dd-4bbe-9b0c-d2df1905f1d8"
      },
      "source": [
        "Let's visualize some samples:"
      ]
    },
    {
      "cell_type": "code",
      "execution_count": 53,
      "id": "3df3b417-8851-4ea9-836b-507f369d1a65",
      "metadata": {
        "colab": {
          "base_uri": "https://localhost:8080/",
          "height": 675
        },
        "id": "3df3b417-8851-4ea9-836b-507f369d1a65",
        "outputId": "a8e8ea5c-b1e0-49be-9843-91bd65fc0c60"
      },
      "outputs": [
        {
          "output_type": "display_data",
          "data": {
            "text/plain": [
              "<Figure size 800x800 with 9 Axes>"
            ],
            "image/png": "[encoded data removed]"
          },
          "metadata": {}
        }
      ],
      "source": [
        "import matplotlib.pyplot as plt\n",
        "\n",
        "labels_map = {\n",
        "    0: \"T-Shirt\",\n",
        "    1: \"Trouser\",\n",
        "    2: \"Pullover\",\n",
        "    3: \"Dress\",\n",
        "    4: \"Coat\",\n",
        "    5: \"Sandal\",\n",
        "    6: \"Shirt\",\n",
        "    7: \"Sneaker\",\n",
        "    8: \"Bag\",\n",
        "    9: \"Ankle Boot\",\n",
        "}\n",
        "figure = plt.figure(figsize=(8, 8))\n",
        "cols, rows = 3, 3\n",
        "for i in range(1, cols * rows + 1):\n",
        "    sample_idx = torch.randint(len(training_data), size=(1,)).item()\n",
        "    img, label = training_data[sample_idx]\n",
        "    figure.add_subplot(rows, cols, i)\n",
        "    plt.title(labels_map[label])\n",
        "    plt.axis(\"off\")\n",
        "    plt.imshow(img.squeeze(), cmap=\"gray\")\n",
        "plt.show()"
      ]
    },
    {
      "cell_type": "markdown",
      "id": "732a2043-c7b2-434a-891f-971bb22fe03d",
      "metadata": {
        "id": "732a2043-c7b2-434a-891f-971bb22fe03d"
      },
      "source": [
        "### Transforms\n",
        "\n",
        "All TorchVision datasets have two parameters -transform to modify the features and target_transform to modify the labels - that accept callables containing the transformation logic. The torchvision.transforms module offers several commonly-used transforms out of the box.\n",
        "\n",
        "The FashionMNIST features are in PIL Image format, and the labels are integers. For training, we need the features as normalized tensors, and the labels as one-hot encoded tensors. To make these transformations, we can use ToTensor and Lambda.\n",
        "\n",
        "`target_transform` defines a function to turn the integer into a one-hot encoded tensor. It first creates a zero tensor of size 10 (the number of labels in our dataset) and calls scatter_ which assigns a value=1 on the index as given by the label y."
      ]
    },
    {
      "cell_type": "code",
      "execution_count": 54,
      "id": "a1fb1bea-10b1-4d85-8da1-faca418f2a32",
      "metadata": {
        "id": "a1fb1bea-10b1-4d85-8da1-faca418f2a32"
      },
      "outputs": [],
      "source": [
        "%matplotlib inline\n",
        "\n",
        "import torch\n",
        "from torchvision import datasets\n",
        "from torchvision.transforms import ToTensor, Lambda\n",
        "\n",
        "ds = datasets.FashionMNIST(\n",
        "    root=\"data\",\n",
        "    train=True,\n",
        "    download=True,\n",
        "    transform=ToTensor(),\n",
        "    target_transform=Lambda(lambda y: torch.zeros(10, dtype=torch.float).scatter_(0, torch.tensor(y), value=1))\n",
        ")"
      ]
    },
    {
      "cell_type": "markdown",
      "id": "05915445-9ffc-44f8-a14a-ce0d94bf9497",
      "metadata": {
        "id": "05915445-9ffc-44f8-a14a-ce0d94bf9497"
      },
      "source": [
        "### Defining a network model\n",
        "\n",
        "Now that we have the test data, define a neural network with 2 hidden layers and ReLU activation functions:"
      ]
    },
    {
      "cell_type": "code",
      "execution_count": 55,
      "id": "ab4240e5-8e19-48b1-ac42-1dbf6d7c745e",
      "metadata": {
        "colab": {
          "base_uri": "https://localhost:8080/"
        },
        "id": "ab4240e5-8e19-48b1-ac42-1dbf6d7c745e",
        "outputId": "b094da06-2d5c-486e-bf10-7eb1e86119f7"
      },
      "outputs": [
        {
          "output_type": "stream",
          "name": "stdout",
          "text": [
            "Using cpu device\n",
            "NeuralNetwork(\n",
            "  (flatten): Flatten(start_dim=1, end_dim=-1)\n",
            "  (linear_relu_stack): Sequential(\n",
            "    (0): Linear(in_features=784, out_features=512, bias=True)\n",
            "    (1): ReLU()\n",
            "    (2): Linear(in_features=512, out_features=512, bias=True)\n",
            "    (3): ReLU()\n",
            "    (4): Linear(in_features=512, out_features=10, bias=True)\n",
            "  )\n",
            ")\n"
          ]
        }
      ],
      "source": [
        "# Get cpu or gpu device for training.\n",
        "device = \"cuda\" if torch.cuda.is_available() else \"mps\" if torch.backends.mps.is_available() else \"cpu\"\n",
        "print(f\"Using {device} device\")\n",
        "\n",
        "# Define model\n",
        "class NeuralNetwork(nn.Module):\n",
        "    def __init__(self):\n",
        "        super().__init__()\n",
        "        self.flatten = nn.Flatten()\n",
        "        self.linear_relu_stack = nn.Sequential(\n",
        "            nn.Linear(28*28, 512),\n",
        "            nn.ReLU(),\n",
        "            nn.Linear(512, 512),\n",
        "            nn.ReLU(),\n",
        "            nn.Linear(512, 10)\n",
        "        )\n",
        "\n",
        "    def forward(self, x):\n",
        "        x = self.flatten(x)\n",
        "        logits = self.linear_relu_stack(x)\n",
        "        return logits\n",
        "\n",
        "model = NeuralNetwork().to(device)\n",
        "print(model)"
      ]
    },
    {
      "cell_type": "markdown",
      "id": "14ecf728-4384-4e2a-988f-3f248be6a03c",
      "metadata": {
        "id": "14ecf728-4384-4e2a-988f-3f248be6a03c"
      },
      "source": [
        "Let's break down the steps:\n",
        "  - initialize the `nn.Flatten` layer to convert each 2D 28x28 image into a contiguous array of 784 pixel values ( the minibatch dimension (at dim=0) is maintained).\n",
        "  -  `nn.Linear` is a module that applies a linear transformation on the input using its stored weights and biases.\n",
        "  -  `nn.ReLU` activations are applied after linear transformations to introduce nonlinearity.\n",
        "  -  `nn.Sequential` orders the modules."
      ]
    },
    {
      "cell_type": "markdown",
      "id": "60d12a6b-0fc2-4c82-b810-5e35e7baddda",
      "metadata": {
        "id": "60d12a6b-0fc2-4c82-b810-5e35e7baddda"
      },
      "source": [
        "In order to train a model, we also need to specify a loss function and optimizer:"
      ]
    },
    {
      "cell_type": "code",
      "execution_count": 56,
      "id": "c3647e12-fb37-41db-86f0-3b1be736ad9f",
      "metadata": {
        "id": "c3647e12-fb37-41db-86f0-3b1be736ad9f"
      },
      "outputs": [],
      "source": [
        "loss_fn = nn.CrossEntropyLoss()\n",
        "optimizer = torch.optim.SGD(model.parameters(), lr=1e-3)"
      ]
    },
    {
      "cell_type": "markdown",
      "id": "4762ff64-e440-4c79-8f85-b98d2c69da3c",
      "metadata": {
        "id": "4762ff64-e440-4c79-8f85-b98d2c69da3c"
      },
      "source": [
        "### Training loop\n",
        "\n",
        "To sum up, in order to train a model, we need the following:\n",
        "  - the dataloader that wraps over some dataset\n",
        "  - model itself (derived from PyTorch's `nn.Module`)\n",
        "  - loss function\n",
        "  - optimizer\n",
        "\n",
        "Needed steps are:\n",
        "  - compure forward propagation\n",
        "  - calculate loss\n",
        "  - compute backward propagation\n",
        "  - perform GD step\n",
        "\n",
        "![A picture](./img/training_loop.png)"
      ]
    },
    {
      "cell_type": "code",
      "execution_count": 57,
      "id": "7ec9e6a9-13dc-4219-8e88-97ed4b7085be",
      "metadata": {
        "id": "7ec9e6a9-13dc-4219-8e88-97ed4b7085be"
      },
      "outputs": [],
      "source": [
        "def train(dataloader, model, loss_fn, optimizer):\n",
        "    size = len(dataloader.dataset)\n",
        "    # This just sets the model in train mode\n",
        "    model.train()\n",
        "    for batch, (X, y) in enumerate(dataloader):\n",
        "        X, y = X.to(device), y.to(device)\n",
        "\n",
        "        # Compute prediction error\n",
        "        pred = model(X)\n",
        "        loss = loss_fn(pred, y)\n",
        "\n",
        "        # Backpropagation\n",
        "        optimizer.zero_grad()\n",
        "        loss.backward()\n",
        "        optimizer.step()\n",
        "\n",
        "        if batch % 100 == 0:\n",
        "            loss, current = loss.item(), batch * len(X)\n",
        "            print(f\"loss: {loss:>7f}  [{current:>5d}/{size:>5d}]\")"
      ]
    },
    {
      "cell_type": "markdown",
      "id": "aa91cc09-dd22-49bd-aff6-033b0fdac101",
      "metadata": {
        "id": "aa91cc09-dd22-49bd-aff6-033b0fdac101"
      },
      "source": [
        "We'll also need a test function in order to verify how our model works. Note that we use `torch.no_grad()` as we don't need the gradients when testing:"
      ]
    },
    {
      "cell_type": "code",
      "execution_count": 58,
      "id": "055b54f0-d711-48b3-8e61-4dfbfff167d7",
      "metadata": {
        "id": "055b54f0-d711-48b3-8e61-4dfbfff167d7"
      },
      "outputs": [],
      "source": [
        "def test(dataloader, model, loss_fn):\n",
        "    size = len(dataloader.dataset)\n",
        "    num_batches = len(dataloader)\n",
        "    model.eval()\n",
        "    test_loss, correct = 0, 0\n",
        "    with torch.no_grad():\n",
        "        for X, y in dataloader:\n",
        "            X, y = X.to(device), y.to(device)\n",
        "            pred = model(X)\n",
        "            test_loss += loss_fn(pred, y).item()\n",
        "            correct += (pred.argmax(1) == y).type(torch.float).sum().item()\n",
        "    test_loss /= num_batches\n",
        "    correct /= size\n",
        "    print(f\"Test Error: \\n Accuracy: {(100*correct):>0.1f}%, Avg loss: {test_loss:>8f} \\n\")"
      ]
    },
    {
      "cell_type": "markdown",
      "id": "b5ad2377-11bf-4ad2-a381-9daee9d92436",
      "metadata": {
        "id": "b5ad2377-11bf-4ad2-a381-9daee9d92436"
      },
      "source": [
        "![A picture](./img/testing_loop.png)"
      ]
    },
    {
      "cell_type": "markdown",
      "id": "5b8becd2-820e-44fe-a89d-993faf5fd7c8",
      "metadata": {
        "id": "5b8becd2-820e-44fe-a89d-993faf5fd7c8"
      },
      "source": [
        "Let's run it:"
      ]
    },
    {
      "cell_type": "code",
      "execution_count": 59,
      "id": "313d8ead-58f6-4aad-81d5-079e1aff19f1",
      "metadata": {
        "colab": {
          "base_uri": "https://localhost:8080/"
        },
        "id": "313d8ead-58f6-4aad-81d5-079e1aff19f1",
        "outputId": "d14faeab-81ac-4383-c12e-e0a1873cde9c"
      },
      "outputs": [
        {
          "output_type": "stream",
          "name": "stdout",
          "text": [
            "Epoch 1\n",
            "-------------------------------\n",
            "loss: 2.309587  [    0/60000]\n",
            "loss: 2.296653  [ 6400/60000]\n",
            "loss: 2.278385  [12800/60000]\n",
            "loss: 2.277608  [19200/60000]\n",
            "loss: 2.257822  [25600/60000]\n",
            "loss: 2.217015  [32000/60000]\n",
            "loss: 2.236221  [38400/60000]\n",
            "loss: 2.191912  [44800/60000]\n",
            "loss: 2.197715  [51200/60000]\n",
            "loss: 2.166986  [57600/60000]\n",
            "Test Error: \n",
            " Accuracy: 37.2%, Avg loss: 2.159161 \n",
            "\n",
            "Epoch 2\n",
            "-------------------------------\n",
            "loss: 2.170888  [    0/60000]\n",
            "loss: 2.158417  [ 6400/60000]\n",
            "loss: 2.102668  [12800/60000]\n",
            "loss: 2.127903  [19200/60000]\n",
            "loss: 2.064964  [25600/60000]\n",
            "loss: 2.000580  [32000/60000]\n",
            "loss: 2.042910  [38400/60000]\n",
            "loss: 1.955908  [44800/60000]\n",
            "loss: 1.970677  [51200/60000]\n",
            "loss: 1.899732  [57600/60000]\n",
            "Test Error: \n",
            " Accuracy: 54.7%, Avg loss: 1.896885 \n",
            "\n",
            "Epoch 3\n",
            "-------------------------------\n",
            "loss: 1.926057  [    0/60000]\n",
            "loss: 1.893449  [ 6400/60000]\n",
            "loss: 1.781881  [12800/60000]\n",
            "loss: 1.836029  [19200/60000]\n",
            "loss: 1.701276  [25600/60000]\n",
            "loss: 1.658113  [32000/60000]\n",
            "loss: 1.692246  [38400/60000]\n",
            "loss: 1.588418  [44800/60000]\n",
            "loss: 1.614638  [51200/60000]\n",
            "loss: 1.513785  [57600/60000]\n",
            "Test Error: \n",
            " Accuracy: 61.6%, Avg loss: 1.529288 \n",
            "\n",
            "Epoch 4\n",
            "-------------------------------\n",
            "loss: 1.588101  [    0/60000]\n",
            "loss: 1.550872  [ 6400/60000]\n",
            "loss: 1.408295  [12800/60000]\n",
            "loss: 1.487175  [19200/60000]\n",
            "loss: 1.342630  [25600/60000]\n",
            "loss: 1.354330  [32000/60000]\n",
            "loss: 1.368089  [38400/60000]\n",
            "loss: 1.295052  [44800/60000]\n",
            "loss: 1.323178  [51200/60000]\n",
            "loss: 1.226542  [57600/60000]\n",
            "Test Error: \n",
            " Accuracy: 63.6%, Avg loss: 1.253541 \n",
            "\n",
            "Epoch 5\n",
            "-------------------------------\n",
            "loss: 1.325922  [    0/60000]\n",
            "loss: 1.303296  [ 6400/60000]\n",
            "loss: 1.145713  [12800/60000]\n",
            "loss: 1.254059  [19200/60000]\n",
            "loss: 1.112065  [25600/60000]\n",
            "loss: 1.152915  [32000/60000]\n",
            "loss: 1.169270  [38400/60000]\n",
            "loss: 1.112227  [44800/60000]\n",
            "loss: 1.141854  [51200/60000]\n",
            "loss: 1.061475  [57600/60000]\n",
            "Test Error: \n",
            " Accuracy: 65.0%, Avg loss: 1.084316 \n",
            "\n",
            "Done!\n"
          ]
        }
      ],
      "source": [
        "epochs = 5\n",
        "for t in range(epochs):\n",
        "    print(f\"Epoch {t+1}\\n-------------------------------\")\n",
        "    train(train_dataloader, model, loss_fn, optimizer)\n",
        "    test(test_dataloader, model, loss_fn)\n",
        "print(\"Done!\")"
      ]
    },
    {
      "cell_type": "markdown",
      "id": "93478094-c439-40f2-8bdb-f6ba8d19d04c",
      "metadata": {
        "id": "93478094-c439-40f2-8bdb-f6ba8d19d04c"
      },
      "source": [
        "Save and load model:"
      ]
    },
    {
      "cell_type": "code",
      "execution_count": 60,
      "id": "b8970de6-ed4a-4c0d-8280-de113c03743a",
      "metadata": {
        "colab": {
          "base_uri": "https://localhost:8080/"
        },
        "id": "b8970de6-ed4a-4c0d-8280-de113c03743a",
        "outputId": "3b97b2df-f297-4068-89ad-127f9a885c65"
      },
      "outputs": [
        {
          "output_type": "execute_result",
          "data": {
            "text/plain": [
              "<All keys matched successfully>"
            ]
          },
          "metadata": {},
          "execution_count": 60
        }
      ],
      "source": [
        "torch.save(model.state_dict(), \"model.pth\")\n",
        "model = NeuralNetwork()\n",
        "model.load_state_dict(torch.load(\"model.pth\"))"
      ]
    },
    {
      "cell_type": "markdown",
      "id": "af2d58eb-fb28-4dac-aba9-61ba4d123bec",
      "metadata": {
        "id": "af2d58eb-fb28-4dac-aba9-61ba4d123bec"
      },
      "source": [
        "Let's use the model to make predictions:"
      ]
    },
    {
      "cell_type": "code",
      "execution_count": 61,
      "id": "718577ea-e1ed-4831-bc21-581f0dadfad4",
      "metadata": {
        "colab": {
          "base_uri": "https://localhost:8080/"
        },
        "id": "718577ea-e1ed-4831-bc21-581f0dadfad4",
        "outputId": "b0641035-e5e5-4894-fef4-87377b99b783"
      },
      "outputs": [
        {
          "output_type": "stream",
          "name": "stdout",
          "text": [
            "Predicted: \"Ankle boot\", Actual: \"Ankle boot\"\n"
          ]
        }
      ],
      "source": [
        "\n",
        "classes = [\n",
        "    \"T-shirt/top\",\n",
        "    \"Trouser\",\n",
        "    \"Pullover\",\n",
        "    \"Dress\",\n",
        "    \"Coat\",\n",
        "    \"Sandal\",\n",
        "    \"Shirt\",\n",
        "    \"Sneaker\",\n",
        "    \"Bag\",\n",
        "    \"Ankle boot\",\n",
        "]\n",
        "\n",
        "# Switch model to evaluation mode\n",
        "model.eval()\n",
        "x, y = test_data[0][0], test_data[0][1]\n",
        "with torch.no_grad():\n",
        "    pred = model(x)\n",
        "    predicted, actual = classes[pred[0].argmax(0)], classes[y]\n",
        "    print(f'Predicted: \"{predicted}\", Actual: \"{actual}\"')"
      ]
    }
  ],
  "metadata": {
    "kernelspec": {
      "display_name": "Python 3 (ipykernel)",
      "language": "python",
      "name": "python3"
    },
    "language_info": {
      "codemirror_mode": {
        "name": "ipython",
        "version": 3
      },
      "file_extension": ".py",
      "mimetype": "text/x-python",
      "name": "python",
      "nbconvert_exporter": "python",
      "pygments_lexer": "ipython3",
      "version": "3.12.2"
    },
    "colab": {
      "provenance": []
    }
  },
  "nbformat": 4,
  "nbformat_minor": 5
}